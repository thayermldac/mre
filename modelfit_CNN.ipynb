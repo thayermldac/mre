{
  "cells": [
    {
      "cell_type": "code",
      "source": [
        "import scipy.io\n",
        "import keras\n",
        "import numpy as np\n",
        "import matplotlib.pyplot as plt\n",
        "import os,sys\n",
        "import pandas as pd\n",
        "import random \n",
        "from keras.models import Sequential\n",
        "from keras.layers import Dense, Conv2D,MaxPooling2D, Flatten, UpSampling2D\n",
        "\n",
        "from sklearn.model_selection import train_test_split\n",
        "from keras.utils import np_utils\n",
        "from sklearn.preprocessing import MinMaxScaler\n",
        "\n\n",
        "%matplotlib inline \n",
        "\n"
      ],
      "outputs": [
        {
          "output_type": "stream",
          "name": "stderr",
          "text": [
            "/Users/liginsolamen/anaconda3/lib/python3.6/site-packages/h5py/__init__.py:36: FutureWarning: Conversion of the second argument of issubdtype from `float` to `np.floating` is deprecated. In future, it will be treated as `np.float64 == np.dtype(float).type`.\n",
            "  from ._conv import register_converters as _register_converters\n",
            "Using TensorFlow backend.\n"
          ]
        }
      ],
      "execution_count": 1,
      "metadata": {
        "collapsed": false,
        "outputHidden": false,
        "inputHidden": false
      }
    },
    {
      "cell_type": "code",
      "source": [
        "df=pd.read_msgpack('/Users/liginsolamen/MRE/MREData/MREdata_072118.msg')"
      ],
      "outputs": [],
      "execution_count": 2,
      "metadata": {
        "collapsed": false,
        "outputHidden": false,
        "inputHidden": false
      }
    },
    {
      "cell_type": "code",
      "source": [
        "Ur=np.stack(df.Ur.values,axis=3).transpose(3,0,1,2)\n",
        "Ui=np.stack(df.Ui.values,axis=3).transpose(3,0,1,2)\n",
        "\n",
        "X=np.sqrt(Ui**2+Ur**2)\n",
        "\n",
        "Y=np.stack(df.RS.values,axis=2).transpose(2,0,1)\n",
        "Y=Y.reshape(612,-1)\n",
        "Y=Y/10000\n",
        "print(X.shape)\n",
        "print(Y.shape)\n",
        "#print(Y.ptp)\n",
        "Y.ptp()"
      ],
      "outputs": [
        {
          "output_type": "stream",
          "name": "stdout",
          "text": [
            "(612, 64, 64, 3)\n",
            "(612, 4096)\n"
          ]
        },
        {
          "output_type": "execute_result",
          "execution_count": 3,
          "data": {
            "text/plain": [
              "1.0"
            ]
          },
          "metadata": {}
        }
      ],
      "execution_count": 3,
      "metadata": {
        "collapsed": false,
        "outputHidden": false,
        "inputHidden": false
      }
    },
    {
      "cell_type": "code",
      "source": [
        "#scaler = MinMaxScaler()\n",
        "#print(scaler.fit(Y))"
      ],
      "outputs": [],
      "execution_count": 125,
      "metadata": {
        "collapsed": false,
        "outputHidden": false,
        "inputHidden": false
      }
    },
    {
      "cell_type": "code",
      "source": [
        "train_X,test_X,train_Y,test_Y=train_test_split(X,Y,test_size=0.3)\n",
        "train_X,valid_X,train_Y,valid_Y=train_test_split(train_X,train_Y,test_size=0.3)\n",
        "\n",
        "print(X.shape) #612,64,64,3\n",
        "print(Y.shape) #612,4096\n",
        "print(train_X.shape) #(299, 64, 64, 3)\n",
        "print(valid_X.shape) #(129, 64, 64, 3)\n",
        "print(test_Y.shape) #(184, 4096)\n",
        "\n"
      ],
      "outputs": [
        {
          "output_type": "stream",
          "name": "stdout",
          "text": [
            "(612, 64, 64, 3)\n",
            "(612, 4096)\n",
            "(299, 64, 64, 3)\n",
            "(129, 64, 64, 3)\n",
            "(184, 4096)\n"
          ]
        }
      ],
      "execution_count": 4,
      "metadata": {
        "collapsed": false,
        "outputHidden": false,
        "inputHidden": false
      }
    },
    {
      "cell_type": "code",
      "source": [
        "model=Sequential()\n",
        "\n",
        "model.add(Conv2D(64, kernel_size=(5, 5), strides=(1,1),\n",
        "                 activation='relu',\n",
        "                 input_shape=(X.shape[1],X.shape[2],X.shape[3])))\n",
        "#32 Output channels\n",
        "#Input Shape=64,64,3\n",
        "#5x5 moving window\n",
        "model.add(MaxPooling2D(pool_size=(3, 3)))\n",
        "\n\n",
        "model.add(Conv2D(64, kernel_size=(5, 5), activation='relu'))\n",
        "model.add(MaxPooling2D(pool_size=(3,3)))\n",
        "#64 output channels\n",
        "#default strides=1,1\n",
        "#batch size=64,64,32          \n",
        "\n",
        "model.add(Flatten())\n",
        "model.add(Dense(100, activation='relu'))\n",
        "model.add(Dense(Y.shape[1],activation='linear'))\n",
        "\n",
        "model.summary()\n"
      ],
      "outputs": [
        {
          "output_type": "stream",
          "name": "stdout",
          "text": [
            "_________________________________________________________________\n",
            "Layer (type)                 Output Shape              Param #   \n",
            "=================================================================\n",
            "conv2d_68 (Conv2D)           (None, 60, 60, 64)        4864      \n",
            "_________________________________________________________________\n",
            "max_pooling2d_60 (MaxPooling (None, 20, 20, 64)        0         \n",
            "_________________________________________________________________\n",
            "conv2d_69 (Conv2D)           (None, 16, 16, 64)        102464    \n",
            "_________________________________________________________________\n",
            "max_pooling2d_61 (MaxPooling (None, 5, 5, 64)          0         \n",
            "_________________________________________________________________\n",
            "flatten_26 (Flatten)         (None, 1600)              0         \n",
            "_________________________________________________________________\n",
            "dense_79 (Dense)             (None, 100)               160100    \n",
            "_________________________________________________________________\n",
            "dense_80 (Dense)             (None, 4096)              413696    \n",
            "=================================================================\n",
            "Total params: 681,124\n",
            "Trainable params: 681,124\n",
            "Non-trainable params: 0\n",
            "_________________________________________________________________\n"
          ]
        }
      ],
      "execution_count": 148,
      "metadata": {
        "collapsed": false,
        "outputHidden": false,
        "inputHidden": false
      }
    },
    {
      "cell_type": "code",
      "source": [],
      "outputs": [],
      "execution_count": null,
      "metadata": {
        "collapsed": false,
        "outputHidden": false,
        "inputHidden": false
      }
    },
    {
      "cell_type": "code",
      "source": [
        "model.compile(loss='mean_squared_error',\n",
        "              optimizer='adam')\n"
      ],
      "outputs": [],
      "execution_count": 149,
      "metadata": {
        "collapsed": false,
        "outputHidden": false,
        "inputHidden": false
      }
    },
    {
      "cell_type": "code",
      "source": [
        "model.fit(train_X, train_Y,\n",
        "          epochs=10,\n",
        "          batch_size=1,\n",
        "          validation_data=(valid_X, valid_Y))"
      ],
      "outputs": [
        {
          "output_type": "stream",
          "name": "stdout",
          "text": [
            "Train on 299 samples, validate on 129 samples\n",
            "Epoch 1/10\n",
            "299/299 [==============================] - 9s 30ms/step - loss: 0.0256 - val_loss: 0.0297\b\b\b\b\b\b\b\b\b\b\b\b\b\b\b\b\b\b\b\b\b\b\b\b\b\b\b\b\b\b\b\b\b\b\b\b\b\b\b\b\b\b\b\b\b\n",
            "Epoch 2/10\n",
            "299/299 [==============================] - 9s 30ms/step - loss: 0.0139 - val_loss: 0.0094\b\b\b\b\b\b\b\b\b\b\b\b\b\b\b\b\b\b\b\b\b\b\b\b\b\b\b\b\b\b\b\b\b\b\b\b\b\b\b\b\b\n",
            "Epoch 3/10\n",
            "299/299 [==============================] - 10s 32ms/step - loss: 0.0073 - val_loss: 0.0063\b\b\b\b\b\b\b\b\b\b\b\b\b\b\b\b\b\b\b\b\b\b\b\b\b\b\b\b\b\b\b\b\b\b\b\b\b\b\b\b\n",
            "Epoch 4/10\n",
            "299/299 [==============================] - 9s 31ms/step - loss: 0.0066 - val_loss: 0.0057\b\b\b\b\b\b\b\b\b\b\b\b\b\b\b\b\b\b\b\b\b\b\b\b\b\b\b\b\b\b\b\b\b\b\b\b\b\b\b\b\b\n",
            "Epoch 5/10\n",
            "299/299 [==============================] - 9s 29ms/step - loss: 0.0058 - val_loss: 0.0054\b\b\b\b\b\b\b\b\b\b\b\b\b\b\b\b\b\b\b\b\b\b\b\b\b\b\b\b\b\b\b\b\b\b\b\b\b\b\b\b\b\n",
            "Epoch 6/10\n",
            "299/299 [==============================] - 9s 30ms/step - loss: 0.0048 - val_loss: 0.0048\b\b\b\b\b\b\b\b\b\b\b\b\b\b\b\b\b\b\b\b\b\b\b\b\b\b\b\b\b\b\b\b\b\b\b\b\b\b\b\b\b\n",
            "Epoch 7/10\n",
            "299/299 [==============================] - 9s 30ms/step - loss: 0.0046 - val_loss: 0.0043\b\b\b\b\b\b\b\b\b\b\b\b\b\b\b\b\b\b\b\b\b\b\b\b\b\b\b\b\b\b\b\b\b\b\b\b\b\b\b\b\b\n",
            "Epoch 8/10\n",
            "299/299 [==============================] - 9s 29ms/step - loss: 0.0038 - val_loss: 0.0040\b\b\b\b\b\b\b\b\b\b\b\b\b\b\b\b\b\b\b\b\b\b\b\b\b\b\b\b\b\b\b\b\b\b\b\b\b\b\b\b\b\n",
            "Epoch 9/10\n",
            "299/299 [==============================] - 9s 29ms/step - loss: 0.0035 - val_loss: 0.0035\b\b\b\b\b\b\b\b\b\b\b\b\b\b\b\b\b\b\b\b\b\b\b\b\b\b\b\b\b\b\b\b\b\b\b\b\b\b\b\b\b\n",
            "Epoch 10/10\n",
            "299/299 [==============================] - 9s 29ms/step - loss: 0.0029 - val_loss: 0.0030\b\b\b\b\b\b\b\b\b\b\b\b\b\b\b\b\b\b\b\b\b\b\b\b\b\b\b\b\b\b\b\b\b\b\b\b\b\b\b\b\b\n"
          ]
        },
        {
          "output_type": "execute_result",
          "execution_count": 150,
          "data": {
            "text/plain": [
              "<keras.callbacks.History at 0x11beeaa20>"
            ]
          },
          "metadata": {}
        }
      ],
      "execution_count": 150,
      "metadata": {
        "collapsed": false,
        "outputHidden": false,
        "inputHidden": false
      }
    },
    {
      "cell_type": "code",
      "source": [
        "#y_predict=model.predict(test_X).reshape(test_X.shape[0],64,64)\n",
        "\n",
        "y_predict=model.predict(test_X)\n",
        "#test_Y=test_Y.reshape(test_Y.shape[0],64,64)\n",
        "print(y_predict.shape)\n",
        "y_predit2=y_predict.reshape(y_predict.shape[0],64,64)\n",
        "print(y_predit2.shape)\n",
        "\n"
      ],
      "outputs": [
        {
          "output_type": "stream",
          "name": "stdout",
          "text": [
            "(184, 4096)\n",
            "(184, 64, 64)\n"
          ]
        }
      ],
      "execution_count": 153,
      "metadata": {
        "collapsed": false,
        "outputHidden": false,
        "inputHidden": false
      }
    },
    {
      "cell_type": "code",
      "source": [
        "plt.imshow(ytest[32])"
      ],
      "outputs": [
        {
          "output_type": "execute_result",
          "execution_count": 154,
          "data": {
            "text/plain": [
              "<matplotlib.image.AxesImage at 0x127ad2a90>"
            ]
          },
          "metadata": {}
        },
        {
          "output_type": "display_data",
          "data": {
            "text/plain": [
              "<matplotlib.figure.Figure at 0x12799df28>"
            ],
            "image/png": "[encoded data removed]"
          },
          "metadata": {}
        }
      ],
      "execution_count": 154,
      "metadata": {
        "collapsed": false,
        "outputHidden": false,
        "inputHidden": false
      }
    },
    {
      "cell_type": "code",
      "source": [
        "plt.imshow(y_predit2[32])"
      ],
      "outputs": [
        {
          "output_type": "execute_result",
          "execution_count": 155,
          "data": {
            "text/plain": [
              "<matplotlib.image.AxesImage at 0x127bd75c0>"
            ]
          },
          "metadata": {}
        },
        {
          "output_type": "display_data",
          "data": {
            "text/plain": [
              "<matplotlib.figure.Figure at 0x133bf4ac8>"
            ],
            "image/png": "[encoded data removed]"
          },
          "metadata": {}
        }
      ],
      "execution_count": 155,
      "metadata": {
        "collapsed": false,
        "outputHidden": false,
        "inputHidden": false
      }
    },
    {
      "cell_type": "code",
      "source": [
        "model=Sequential()\n",
        "\n",
        "model.add(Conv2D(64, kernel_size=(3, 3), strides=(2,2),\n",
        "                 activation='relu',\n",
        "                 input_shape=(X.shape[1],X.shape[2],X.shape[3])))\n",
        "#32 Output channels\n",
        "#Input Shape=64,64,3\n",
        "#5x5 moving window\n",
        "model.add(Conv2D(50, kernel_size=(3, 3), strides=(2,2),\n",
        "                 activation='relu'))\n",
        "\n",
        "model.add(Conv2D(32, kernel_size=(3, 3), strides=(2,2),\n",
        "                 activation='relu'))\n",
        "\n",
        "model.add(Conv2D(32, kernel_size=(3, 3), strides=(2,2),\n",
        "                 activation='relu'))\n",
        "\n\n",
        "model.add(Conv2D(32, kernel_size=(3, 3),\n",
        "                 activation='relu'))\n",
        "\n",
        "# model.add(MaxPooling2D(pool_size=(3,3)))\n",
        "# #64 output channels\n",
        "# #default strides=1,1\n",
        "# #batch size=64,64,32          \n",
        "\n",
        "model.add(Flatten())\n",
        "model.add(Dense(100, activation='relu'))\n",
        "model.add(Dense(Y.shape[1],activation='linear'))\n",
        "\n",
        "model.summary()\n",
        "\n"
      ],
      "outputs": [
        {
          "output_type": "stream",
          "name": "stdout",
          "text": [
            "_________________________________________________________________\n",
            "Layer (type)                 Output Shape              Param #   \n",
            "=================================================================\n",
            "conv2d_84 (Conv2D)           (None, 31, 31, 64)        1792      \n",
            "_________________________________________________________________\n",
            "conv2d_85 (Conv2D)           (None, 15, 15, 50)        28850     \n",
            "_________________________________________________________________\n",
            "conv2d_86 (Conv2D)           (None, 7, 7, 32)          14432     \n",
            "_________________________________________________________________\n",
            "conv2d_87 (Conv2D)           (None, 3, 3, 32)          9248      \n",
            "_________________________________________________________________\n",
            "conv2d_88 (Conv2D)           (None, 1, 1, 32)          9248      \n",
            "_________________________________________________________________\n",
            "flatten_29 (Flatten)         (None, 32)                0         \n",
            "_________________________________________________________________\n",
            "dense_85 (Dense)             (None, 100)               3300      \n",
            "_________________________________________________________________\n",
            "dense_86 (Dense)             (None, 4096)              413696    \n",
            "=================================================================\n",
            "Total params: 480,566\n",
            "Trainable params: 480,566\n",
            "Non-trainable params: 0\n",
            "_________________________________________________________________\n"
          ]
        }
      ],
      "execution_count": 159,
      "metadata": {
        "collapsed": false,
        "outputHidden": false,
        "inputHidden": false
      }
    },
    {
      "cell_type": "code",
      "source": [
        "model.compile(loss='mean_squared_error',\n",
        "              optimizer='adam')\n",
        "\n",
        "model.fit(train_X, train_Y,\n",
        "          epochs=10,\n",
        "          batch_size=1,\n",
        "          validation_data=(valid_X, valid_Y))"
      ],
      "outputs": [
        {
          "output_type": "stream",
          "name": "stdout",
          "text": [
            "Train on 299 samples, validate on 129 samples\n",
            "Epoch 1/10\n",
            "299/299 [==============================] - 6s 22ms/step - loss: 0.0259 - val_loss: 0.0218\b\b\b\b\b\b\b\b\b\b\b\b\b\b\b\b\b\b\b\b\b\b\b\b\b\b\b\b\b\b\b\b\b\b\b\b\b\b\b\b\b\b\b\b\b\n",
            "Epoch 2/10\n",
            "299/299 [==============================] - 5s 18ms/step - loss: 0.0197 - val_loss: 0.0161\b\b\b\b\b\b\b\b\b\b\b\b\b\b\b\b\b\b\b\b\b\b\b\b\b\b\b\b\b\b\b\b\b\b\b\b\b\b\b\b\b\n",
            "Epoch 3/10\n",
            "299/299 [==============================] - 6s 18ms/step - loss: 0.0111 - val_loss: 0.0064\b\b\b\b\b\b\b\b\b\b\b\b\b\b\b\b\b\b\b\b\b\b\b\b\b\b\b\b\b\b\b\b\b\b\b\b\b\b\b\b\b\n",
            "Epoch 4/10\n",
            "299/299 [==============================] - 5s 18ms/step - loss: 0.0061 - val_loss: 0.0076\b\b\b\b\b\b\b\b\b\b\b\b\b\b\b\b\b\b\b\b\b\b\b\b\b\b\b\b\b\b\b\b\b\b\b\b\b\b\b\b\b\n",
            "Epoch 5/10\n",
            "299/299 [==============================] - 5s 18ms/step - loss: 0.0058 - val_loss: 0.0057\b\b\b\b\b\b\b\b\b\b\b\b\b\b\b\b\b\b\b\b\b\b\b\b\b\b\b\b\b\b\b\b\b\b\b\b\b\b\b\b\b\n",
            "Epoch 6/10\n",
            "299/299 [==============================] - 6s 19ms/step - loss: 0.0047 - val_loss: 0.0042\b\b\b\b\b\b\b\b\b\b\b\b\b\b\b\b\b\b\b\b\b\b\b\b\b\b\b\b\b\b\b\b\b\b\b\b\b\b\b\b\b\n",
            "Epoch 7/10\n",
            "299/299 [==============================] - 5s 18ms/step - loss: 0.0042 - val_loss: 0.0045\b\b\b\b\b\b\b\b\b\b\b\b\b\b\b\b\b\b\b\b\b\b\b\b\b\b\b\b\b\b\b\b\b\b\b\b\b\b\b\b\b\n",
            "Epoch 8/10\n",
            "299/299 [==============================] - 5s 18ms/step - loss: 0.0036 - val_loss: 0.0038\b\b\b\b\b\b\b\b\b\b\b\b\b\b\b\b\b\b\b\b\b\b\b\b\b\b\b\b\b\b\b\b\b\b\b\b\b\b\b\b\b\n",
            "Epoch 9/10\n",
            "299/299 [==============================] - 5s 18ms/step - loss: 0.0036 - val_loss: 0.0039\b\b\b\b\b\b\b\b\b\b\b\b\b\b\b\b\b\b\b\b\b\b\b\b\b\b\b\b\b\b\b\b\b\b\b\b\b\b\b\b\b\n",
            "Epoch 10/10\n",
            "299/299 [==============================] - 5s 18ms/step - loss: 0.0031 - val_loss: 0.0041\b\b\b\b\b\b\b\b\b\b\b\b\b\b\b\b\b\b\b\b\b\b\b\b\b\b\b\b\b\b\b\b\b\b\b\b\b\b\b\b\b\n"
          ]
        },
        {
          "output_type": "execute_result",
          "execution_count": 160,
          "data": {
            "text/plain": [
              "<keras.callbacks.History at 0x127bd7c18>"
            ]
          },
          "metadata": {}
        }
      ],
      "execution_count": 160,
      "metadata": {
        "collapsed": false,
        "outputHidden": false,
        "inputHidden": false
      }
    },
    {
      "cell_type": "code",
      "source": [
        "y_predict=model.predict(test_X)\n",
        "#test_Y=test_Y.reshape(test_Y.shape[0],64,64)\n",
        "print(y_predict.shape)\n",
        "y_predit2=y_predict.reshape(y_predict.shape[0],64,64)\n",
        "print(y_predit2.shape)\n",
        "plt.imshow(ytest[32])\n",
        "plt.imshow(y_predit2[32])"
      ],
      "outputs": [
        {
          "output_type": "stream",
          "name": "stdout",
          "text": [
            "(184, 4096)\n",
            "(184, 64, 64)\n"
          ]
        },
        {
          "output_type": "execute_result",
          "execution_count": 161,
          "data": {
            "text/plain": [
              "<matplotlib.image.AxesImage at 0x127e4dac8>"
            ]
          },
          "metadata": {}
        },
        {
          "output_type": "display_data",
          "data": {
            "text/plain": [
              "<matplotlib.figure.Figure at 0x127d77e10>"
            ],
            "image/png": "[encoded data removed]"
          },
          "metadata": {}
        }
      ],
      "execution_count": 161,
      "metadata": {
        "collapsed": false,
        "outputHidden": false,
        "inputHidden": false
      }
    },
    {
      "cell_type": "code",
      "source": [
        "#Autoencoder\n",
        "\n",
        "model=Sequential()\n",
        "\n",
        "#Convolution\n",
        "model.add(Conv2D(64, kernel_size=(3, 3), strides=(2,2),padding=\"same\",\n",
        "                 activation='relu',\n",
        "                 input_shape=(X.shape[1],X.shape[2],X.shape[3])))\n",
        "\n",
        "model.add(Conv2D(50, kernel_size=(3, 3), strides=(2,2),padding=\"same\",\n",
        "                 activation='relu'))\n",
        "\n",
        "model.add(Conv2D(32, kernel_size=(3, 3), strides=(2,2),padding=\"same\",\n",
        "                 activation='relu'))\n",
        "\n",
        "model.add(Conv2D(32, kernel_size=(3, 3),padding=\"same\",\n",
        "                 activation='relu'))\n",
        "\n",
        "model.add(Conv2D(32, kernel_size=(3, 3),padding=\"same\",\n",
        "                 activation='relu'))\n",
        "\n",
        "#Deconvolution\n",
        "# model.add(Conv2D(32, kernel_size=(3, 3),padding='same',\n",
        "#                  activation='relu'))\n",
        "\n",
        "model.add(UpSampling2D((2,2)))\n",
        "\n",
        "model.add(Conv2D(32, kernel_size=(3, 3),padding='same',\n",
        "                 activation='relu'))\n",
        "\n",
        "model.add(UpSampling2D((2,2)))\n",
        "\n",
        "model.add(Conv2D(32, kernel_size=(3, 3),padding='same',\n",
        "                 activation='relu'))\n",
        "\n",
        "model.add(UpSampling2D((2,2)))\n",
        "\n",
        "model.add(Conv2D(1, kernel_size=(3, 3),padding='same',\n",
        "                 activation='relu'))\n",
        "\n\n",
        "# model.add(UpSampling2D((2,2)))\n",
        "# model.add(Flatten())\n",
        "# model.add(Dense(100, activation='relu'))\n",
        "# model.add(Dense(Y.shape[1],activation='linear'))\n",
        "\n",
        "model.summary()\n"
      ],
      "outputs": [
        {
          "output_type": "stream",
          "name": "stdout",
          "text": [
            "_________________________________________________________________\n",
            "Layer (type)                 Output Shape              Param #   \n",
            "=================================================================\n",
            "conv2d_1 (Conv2D)            (None, 32, 32, 64)        1792      \n",
            "_________________________________________________________________\n",
            "conv2d_2 (Conv2D)            (None, 16, 16, 50)        28850     \n",
            "_________________________________________________________________\n",
            "conv2d_3 (Conv2D)            (None, 8, 8, 32)          14432     \n",
            "_________________________________________________________________\n",
            "conv2d_4 (Conv2D)            (None, 8, 8, 32)          9248      \n",
            "_________________________________________________________________\n",
            "conv2d_5 (Conv2D)            (None, 8, 8, 32)          9248      \n",
            "_________________________________________________________________\n",
            "up_sampling2d_1 (UpSampling2 (None, 16, 16, 32)        0         \n",
            "_________________________________________________________________\n",
            "conv2d_6 (Conv2D)            (None, 16, 16, 32)        9248      \n",
            "_________________________________________________________________\n",
            "up_sampling2d_2 (UpSampling2 (None, 32, 32, 32)        0         \n",
            "_________________________________________________________________\n",
            "conv2d_7 (Conv2D)            (None, 32, 32, 32)        9248      \n",
            "_________________________________________________________________\n",
            "up_sampling2d_3 (UpSampling2 (None, 64, 64, 32)        0         \n",
            "_________________________________________________________________\n",
            "conv2d_8 (Conv2D)            (None, 64, 64, 1)         289       \n",
            "=================================================================\n",
            "Total params: 82,355\n",
            "Trainable params: 82,355\n",
            "Non-trainable params: 0\n",
            "_________________________________________________________________\n"
          ]
        }
      ],
      "execution_count": 5,
      "metadata": {
        "collapsed": false,
        "outputHidden": false,
        "inputHidden": false
      }
    },
    {
      "cell_type": "code",
      "source": [
        "model.compile(loss='mean_squared_error',\n",
        "              optimizer='adam')\n",
        "\n",
        "train_Y=train_Y.reshape((train_Y.shape[0],64,64,1))\n",
        "valid_Y=valid_Y.reshape((valid_Y.shape[0],64,64,1))\n",
        "\n\n",
        "history=model.fit(train_X, train_Y,\n",
        "          epochs=100,\n",
        "          batch_size=1,\n",
        "          validation_data=(valid_X, valid_Y))"
      ],
      "outputs": [
        {
          "output_type": "stream",
          "name": "stdout",
          "text": [
            "Train on 299 samples, validate on 129 samples\n",
            "Epoch 1/100\n",
            "299/299 [==============================] - 10s 34ms/step - loss: 0.0290 - val_loss: 0.0222\b\b\b\b\b\b\b\b\b\b\b\b\b\b\b\b\b\b\b\b\b\b\b\b\b\b\b\b\b\b\b\b\b\b\b\b\b\b\b\b\b\b\b\b\n",
            "Epoch 2/100\n",
            "299/299 [==============================] - 10s 33ms/step - loss: 0.0229 - val_loss: 0.0196\b\b\b\b\b\b\b\b\b\b\b\b\b\b\b\b\b\b\b\b\b\b\b\b\b\b\b\b\b\b\b\b\b\b\b\b\b\b\b\b\b\b\n",
            "Epoch 3/100\n",
            "299/299 [==============================] - 12s 39ms/step - loss: 0.0184 - val_loss: 0.0164\b\b\b\b\b\b\b\b\b\b\b\b\b\b\b\b\b\b\b\b\b\b\b\b\b\b\b\b\b\b\b\b\b\b\b\b\b\b\b\b\b\b\n",
            "Epoch 4/100\n",
            "299/299 [==============================] - 11s 38ms/step - loss: 0.0142 - val_loss: 0.0120\b\b\b\b\b\b\b\b\b\b\b\b\b\b\b\b\b\b\b\b\b\b\b\b\b\b\b\b\b\b\b\b\b\b\b\b\b\b\b\b\n",
            "Epoch 5/100\n",
            "299/299 [==============================] - 9s 29ms/step - loss: 0.0116 - val_loss: 0.0089\b\b\b\b\b\b\b\b\b\b\b\b\b\b\b\b\b\b\b\b\b\b\b\b\b\b\b\b\b\b\b\b\b\b\b\b\b\b\b\b\b\n",
            "Epoch 6/100\n",
            "299/299 [==============================] - 9s 29ms/step - loss: 0.0093 - val_loss: 0.0072\b\b\b\b\b\b\b\b\b\b\b\b\b\b\b\b\b\b\b\b\b\b\b\b\b\b\b\b\b\b\b\b\b\b\b\b\b\b\b\b\b\n",
            "Epoch 7/100\n",
            "299/299 [==============================] - 10s 32ms/step - loss: 0.0080 - val_loss: 0.0067\b\b\b\b\b\b\b\b\b\b\b\b\b\b\b\b\b\b\b\b\b\b\b\b\b\b\b\b\b\b\b\b\b\b\b\b\b\b\b\b\n",
            "Epoch 8/100\n",
            "299/299 [==============================] - 10s 32ms/step - loss: 0.0067 - val_loss: 0.0060\b\b\b\b\b\b\b\b\b\b\b\b\b\b\b\b\b\b\b\b\b\b\b\b\b\b\b\b\b\b\b\b\b\b\b\b\b\b\b\b\n",
            "Epoch 9/100\n",
            "299/299 [==============================] - 9s 30ms/step - loss: 0.0062 - val_loss: 0.0052\b\b\b\b\b\b\b\b\b\b\b\b\b\b\b\b\b\b\b\b\b\b\b\b\b\b\b\b\b\b\b\b\b\b\b\b\b\b\b\b\b\n",
            "Epoch 10/100\n",
            "299/299 [==============================] - 12s 39ms/step - loss: 0.0052 - val_loss: 0.0052\b\b\b\b\b\b\b\b\b\b\b\b\b\b\b\b\b\b\b\b\b\b\b\b\b\b\b\b\b\b\b\b\b\b\b\b\b\b\b\b\b\b\n",
            "Epoch 11/100\n",
            "299/299 [==============================] - 9s 31ms/step - loss: 0.0050 - val_loss: 0.0046\b\b\b\b\b\b\b\b\b\b\b\b\b\b\b\b\b\b\b\b\b\b\b\b\b\b\b\b\b\b\b\b\b\b\b\b\b\b\b\b\b\b\b\n",
            "Epoch 12/100\n",
            "299/299 [==============================] - 9s 30ms/step - loss: 0.0043 - val_loss: 0.0040\b\b\b\b\b\b\b\b\b\b\b\b\b\b\b\b\b\b\b\b\b\b\b\b\b\b\b\b\b\b\b\b\b\b\b\b\b\b\b\b\b\n",
            "Epoch 13/100\n",
            "299/299 [==============================] - 10s 33ms/step - loss: 0.0042 - val_loss: 0.0039\b\b\b\b\b\b\b\b\b\b\b\b\b\b\b\b\b\b\b\b\b\b\b\b\b\b\b\b\b\b\b\b\b\b\b\b\b\b\b\b\n",
            "Epoch 14/100\n",
            "299/299 [==============================] - 9s 31ms/step - loss: 0.0041 - val_loss: 0.0037\b\b\b\b\b\b\b\b\b\b\b\b\b\b\b\b\b\b\b\b\b\b\b\b\b\b\b\b\b\b\b\b\b\b\b\b\b\b\b\b\b\n",
            "Epoch 15/100\n",
            "299/299 [==============================] - 9s 28ms/step - loss: 0.0037 - val_loss: 0.0040\b\b\b\b\b\b\b\b\b\b\b\b\b\b\b\b\b\b\b\b\b\b\b\b\b\b\b\b\b\b\b\b\b\b\b\b\b\b\b\b\b\b\b\n",
            "Epoch 16/100\n",
            "299/299 [==============================] - 11s 38ms/step - loss: 0.0032 - val_loss: 0.0033\b\b\b\b\b\b\b\b\b\b\b\b\b\b\b\b\b\b\b\b\b\b\b\b\b\b\b\b\b\b\b\b\b\b\b\b\b\b\b\b\b\b\n",
            "Epoch 17/100\n",
            "299/299 [==============================] - 12s 40ms/step - loss: 0.0033 - val_loss: 0.0033\b\b\b\b\b\b\b\b\b\b\b\b\b\b\b\b\b\b\b\b\b\b\b\b\b\b\b\b\b\b\b\b\b\b\b\b\b\b\b\b\b\b\n",
            "Epoch 18/100\n",
            "299/299 [==============================] - 9s 32ms/step - loss: 0.0030 - val_loss: 0.0032\b\b\b\b\b\b\b\b\b\b\b\b\b\b\b\b\b\b\b\b\b\b\b\b\b\b\b\b\b\b\b\b\b\b\b\b\b\b\b\b\b\n",
            "Epoch 19/100\n",
            "299/299 [==============================] - 12s 41ms/step - loss: 0.0028 - val_loss: 0.0028\b\b\b\b\b\b\b\b\b\b\b\b\b\b\b\b\b\b\b\b\b\b\b\b\b\b\b\b\b\b\b\b\b\b\b\b\b\b\b\b\n",
            "Epoch 20/100\n",
            "299/299 [==============================] - 11s 37ms/step - loss: 0.0027 - val_loss: 0.0038\b\b\b\b\b\b\b\b\b\b\b\b\b\b\b\b\b\b\b\b\b\b\b\b\b\b\b\b\b\b\b\b\b\b\b\b\b\b\b\b\n",
            "Epoch 21/100\n",
            "299/299 [==============================] - 10s 33ms/step - loss: 0.0029 - val_loss: 0.0028\b\b\b\b\b\b\b\b\b\b\b\b\b\b\b\b\b\b\b\b\b\b\b\b\b\b\b\b\b\b\b\b\b\b\b\b\b\b\b\b\n",
            "Epoch 22/100\n",
            "299/299 [==============================] - 10s 34ms/step - loss: 0.0025 - val_loss: 0.0029\b\b\b\b\b\b\b\b\b\b\b\b\b\b\b\b\b\b\b\b\b\b\b\b\b\b\b\b\b\b\b\b\b\b\b\b\b\b\b\b\b\b\n",
            "Epoch 23/100\n",
            "299/299 [==============================] - 12s 39ms/step - loss: 0.0023 - val_loss: 0.0026\b\b\b\b\b\b\b\b\b\b\b\b\b\b\b\b\b\b\b\b\b\b\b\b\b\b\b\b\b\b\b\b\b\b\b\b\b\b\b\b\b\b\n",
            "Epoch 24/100\n",
            "299/299 [==============================] - 11s 37ms/step - loss: 0.0023 - val_loss: 0.0026\b\b\b\b\b\b\b\b\b\b\b\b\b\b\b\b\b\b\b\b\b\b\b\b\b\b\b\b\b\b\b\b\b\b\b\b\b\b\b\b\b\b\n",
            "Epoch 25/100\n",
            "299/299 [==============================] - 12s 39ms/step - loss: 0.0024 - val_loss: 0.0024\b\b\b\b\b\b\b\b\b\b\b\b\b\b\b\b\b\b\b\b\b\b\b\b\b\b\b\b\b\b\b\b\b\b\b\b\b\b\b\b\b\b\b\b\b\b\b\b\n",
            "Epoch 26/100\n",
            "299/299 [==============================] - 12s 40ms/step - loss: 0.0021 - val_loss: 0.0023\b\b\b\b\b\b\b\b\b\b\b\b\b\b\b\b\b\b\b\b\b\b\b\b\b\b\b\b\b\b\b\b\b\b\b\b\b\b\b\b\n",
            "Epoch 27/100\n",
            "299/299 [==============================] - 11s 35ms/step - loss: 0.0019 - val_loss: 0.0022\b\b\b\b\b\b\b\b\b\b\b\b\b\b\b\b\b\b\b\b\b\b\b\b\b\b\b\b\b\b\b\b\b\b\b\b\b\b\b\b\b\b\b\b\b\b\b\b\b\b\n",
            "Epoch 28/100\n",
            "299/299 [==============================] - 9s 31ms/step - loss: 0.0019 - val_loss: 0.0022\b\b\b\b\b\b\b\b\b\b\b\b\b\b\b\b\b\b\b\b\b\b\b\b\b\b\b\b\b\b\b\b\b\b\b\b\b\b\b\b\b\b\b\n",
            "Epoch 29/100\n",
            "299/299 [==============================] - 8s 27ms/step - loss: 0.0021 - val_loss: 0.0023\b\b\b\b\b\b\b\b\b\b\b\b\b\b\b\b\b\b\b\b\b\b\b\b\b\b\b\b\b\b\b\b\b\b\b\b\b\b\b\b\b\n",
            "Epoch 30/100\n",
            "299/299 [==============================] - 9s 29ms/step - loss: 0.0018 - val_loss: 0.0024\b\b\b\b\b\b\b\b\b\b\b\b\b\b\b\b\b\b\b\b\b\b\b\b\b\b\b\b\b\b\b\b\b\b\b\b\b\b\b\b\b\n",
            "Epoch 31/100\n",
            "299/299 [==============================] - 9s 30ms/step - loss: 0.0018 - val_loss: 0.0025\b\b\b\b\b\b\b\b\b\b\b\b\b\b\b\b\b\b\b\b\b\b\b\b\b\b\b\b\b\b\b\b\b\b\b\b\b\b\b\b\b\n",
            "Epoch 32/100\n",
            "299/299 [==============================] - 8s 27ms/step - loss: 0.0018 - val_loss: 0.0019\b\b\b\b\b\b\b\b\b\b\b\b\b\b\b\b\b\b\b\b\b\b\b\b\b\b\b\b\b\b\b\b\b\b\b\b\b\b\b\b\b\n",
            "Epoch 33/100\n",
            "299/299 [==============================] - 10s 32ms/step - loss: 0.0017 - val_loss: 0.0022\b\b\b\b\b\b\b\b\b\b\b\b\b\b\b\b\b\b\b\b\b\b\b\b\b\b\b\b\b\b\b\b\b\b\b\b\b\b\b\b\b\b\n",
            "Epoch 34/100\n",
            "299/299 [==============================] - 10s 32ms/step - loss: 0.0016 - val_loss: 0.0019\b\b\b\b\b\b\b\b\b\b\b\b\b\b\b\b\b\b\b\b\b\b\b\b\b\b\b\b\b\b\b\b\b\b\b\b\b\b\b\b\b\b\b\b\b\b\b\b\n",
            "Epoch 35/100\n",
            "299/299 [==============================] - 9s 32ms/step - loss: 0.0017 - val_loss: 0.0019\b\b\b\b\b\b\b\b\b\b\b\b\b\b\b\b\b\b\b\b\b\b\b\b\b\b\b\b\b\b\b\b\b\b\b\b\b\b\b\b\b\b\b\b\b\b\b\b\b\b\b\n",
            "Epoch 36/100\n",
            "299/299 [==============================] - 8s 28ms/step - loss: 0.0015 - val_loss: 0.0021\b\b\b\b\b\b\b\b\b\b\b\b\b\b\b\b\b\b\b\b\b\b\b\b\b\b\b\b\b\b\b\b\b\b\b\b\b\b\b\b\b\n",
            "Epoch 37/100\n",
            "299/299 [==============================] - 8s 28ms/step - loss: 0.0015 - val_loss: 0.0017\b\b\b\b\b\b\b\b\b\b\b\b\b\b\b\b\b\b\b\b\b\b\b\b\b\b\b\b\b\b\b\b\b\b\b\b\b\b\b\b\b\b\b\b\b\b\b\b\b\n",
            "Epoch 38/100\n",
            "299/299 [==============================] - 9s 28ms/step - loss: 0.0015 - val_loss: 0.0025\b\b\b\b\b\b\b\b\b\b\b\b\b\b\b\b\b\b\b\b\b\b\b\b\b\b\b\b\b\b\b\b\b\b\b\b\b\b\b\b\b\b\b\b\b\b\b\b\b\b\b\n",
            "Epoch 39/100\n",
            "299/299 [==============================] - 8s 27ms/step - loss: 0.0015 - val_loss: 0.0016\b\b\b\b\b\b\b\b\b\b\b\b\b\b\b\b\b\b\b\b\b\b\b\b\b\b\b\b\b\b\b\b\b\b\b\b\b\b\b\b\b\n",
            "Epoch 40/100\n",
            "299/299 [==============================] - 10s 32ms/step - loss: 0.0012 - val_loss: 0.0016\b\b\b\b\b\b\b\b\b\b\b\b\b\b\b\b\b\b\b\b\b\b\b\b\b\b\b\b\b\b\b\b\b\b\b\b\b\b\b\b\b\b\b\b\b\b\b\b\n",
            "Epoch 41/100\n",
            "299/299 [==============================] - 9s 31ms/step - loss: 0.0012 - val_loss: 0.0016\b\b\b\b\b\b\b\b\b\b\b\b\b\b\b\b\b\b\b\b\b\b\b\b\b\b\b\b\b\b\b\b\b\b\b\b\b\b\b\b\b\b\b\b\b\b\b\b\b\n",
            "Epoch 42/100\n",
            "299/299 [==============================] - 9s 30ms/step - loss: 0.0011 - val_loss: 0.0026\b\b\b\b\b\b\b\b\b\b\b\b\b\b\b\b\b\b\b\b\b\b\b\b\b\b\b\b\b\b\b\b\b\b\b\b\b\b\b\b\b\b\b\b\b\b\b\b\b\n",
            "Epoch 43/100\n",
            "299/299 [==============================] - 11s 36ms/step - loss: 0.0015 - val_loss: 0.0015\b\b\b\b\b\b\b\b\b\b\b\b\b\b\b\b\b\b\b\b\b\b\b\b\b\b\b\b\b\b\b\b\b\b\b\b\b\b\b\b\n",
            "Epoch 44/100\n",
            "299/299 [==============================] - 8s 28ms/step - loss: 0.0012 - val_loss: 0.0013\b\b\b\b\b\b\b\b\b\b\b\b\b\b\b\b\b\b\b\b\b\b\b\b\b\b\b\b\b\b\b\b\b\b\b\b\b\b\b\b\b\b\b\b\b\b\b\b\b\n",
            "Epoch 45/100\n",
            "299/299 [==============================] - 10s 33ms/step - loss: 0.0011 - val_loss: 0.0013\b\b\b\b\b\b\b\b\b\b\b\b\b\b\b\b\b\b\b\b\b\b\b\b\b\b\b\b\b\b\b\b\b\b\b\b\b\b\b\b\b\b\b\b\b\b\b\b\n",
            "Epoch 46/100\n",
            "299/299 [==============================] - 11s 36ms/step - loss: 0.0012 - val_loss: 0.0013\b\b\b\b\b\b\b\b\b\b\b\b\b\b\b\b\b\b\b\b\b\b\b\b\b\b\b\b\b\b\b\b\b\b\b\b\b\b\b\b\b\b\b\b\b\b\b\b\n",
            "Epoch 47/100\n",
            "299/299 [==============================] - 9s 31ms/step - loss: 0.0011 - val_loss: 0.0019\b\b\b\b\b\b\b\b\b\b\b\b\b\b\b\b\b\b\b\b\b\b\b\b\b\b\b\b\b\b\b\b\b\b\b\b\b\b\b\b\b\b\b\b\b\b\b\b\b\n",
            "Epoch 48/100\n",
            "299/299 [==============================] - 8s 28ms/step - loss: 0.0011 - val_loss: 0.0015\b\b\b\b\b\b\b\b\b\b\b\b\b\b\b\b\b\b\b\b\b\b\b\b\b\b\b\b\b\b\b\b\b\b\b\b\b\b\b\b\b\n",
            "Epoch 49/100\n",
            "299/299 [==============================] - 10s 32ms/step - loss: 0.0010 - val_loss: 0.0014\b\b\b\b\b\b\b\b\b\b\b\b\b\b\b\b\b\b\b\b\b\b\b\b\b\b\b\b\b\b\b\b\b\b\b\b\b\b\b\b\b\b\b\b\b\b\b\b\n",
            "Epoch 50/100\n",
            "299/299 [==============================] - 9s 30ms/step - loss: 9.6131e-04 - val_loss: 0.0014\b\b\b\b\b\b\b\b\b\b\b\b\b\b\b\b\b\b\b\b\b\b\b\b\b\b\b\b\b\b\b\b\b\b\b\b\b\b\b\b\b\b\b\b\b\b\b\n",
            "Epoch 51/100\n",
            "299/299 [==============================] - 11s 36ms/step - loss: 9.6053e-04 - val_loss: 0.0014\b\b\b\b\b\b\b\b\b\b\b\b\b\b\b\b\b\b\b\b\b\b\b\b\b\b\b\b\b\b\b\b\b\b\b\b\b\b\b\b\b\b\b\b\b\b\n",
            "Epoch 52/100\n",
            "299/299 [==============================] - 10s 32ms/step - loss: 0.0011 - val_loss: 0.0013\b\b\b\b\b\b\b\b\b\b\b\b\b\b\b\b\b\b\b\b\b\b\b\b\b\b\b\b\b\b\b\b\b\b\b\b\b\b\b\b\b\b\b\b\b\b\b\b\n",
            "Epoch 53/100\n",
            "299/299 [==============================] - 9s 32ms/step - loss: 8.4258e-04 - val_loss: 0.0014\b\b\b\b\b\b\b\b\b\b\b\b\b\b\b\b\b\b\b\b\b\b\b\b\b\b\b\b\b\b\b\b\b\b\b\b\b\b\b\b\b\b\b\b\b\n",
            "Epoch 54/100\n",
            "299/299 [==============================] - 9s 30ms/step - loss: 7.8553e-04 - val_loss: 0.0013\b\b\b\b\b\b\b\b\b\b\b\b\b\b\b\b\b\b\b\b\b\b\b\b\b\b\b\b\b\b\b\b\b\b\b\b\b\b\b\b\b\b\b\b\b\n",
            "Epoch 55/100\n",
            "299/299 [==============================] - 10s 33ms/step - loss: 0.0012 - val_loss: 0.0011\b\b\b\b\b\b\b\b\b\b\b\b\b\b\b\b\b\b\b\b\b\b\b\b\b\b\b\b\b\b\b\b\b\b\b\b\b\b\b\b\b\b\b\b\b\b\b\b\n",
            "Epoch 56/100\n",
            "299/299 [==============================] - 10s 33ms/step - loss: 9.0412e-04 - val_loss: 0.0011\b\b\b\b\b\b\b\b\b\b\b\b\b\b\b\b\b\b\b\b\b\b\b\b\b\b\b\b\b\b\b\b\b\b\b\b\b\b\b\b\b\b\b\b\n",
            "Epoch 57/100\n",
            "299/299 [==============================] - 9s 31ms/step - loss: 8.1131e-04 - val_loss: 0.0012\b\b\b\b\b\b\b\b\b\b\b\b\b\b\b\b\b\b\b\b\b\b\b\b\b\b\b\b\b\b\b\b\b\b\b\b\b\b\b\b\b\b\b\b\b\n",
            "Epoch 58/100\n",
            "299/299 [==============================] - 9s 31ms/step - loss: 8.1201e-04 - val_loss: 0.0013\b\b\b\b\b\b\b\b\b\b\b\b\b\b\b\b\b\b\b\b\b\b\b\b\b\b\b\b\b\b\b\b\b\b\b\b\b\b\b\b\b\b\b\b\b\n",
            "Epoch 59/100\n",
            "299/299 [==============================] - 8s 28ms/step - loss: 8.2872e-04 - val_loss: 0.0012\b\b\b\b\b\b\b\b\b\b\b\b\b\b\b\b\b\b\b\b\b\b\b\b\b\b\b\b\b\b\b\b\b\b\b\b\b\b\b\b\b\b\b\b\b\n",
            "Epoch 60/100\n",
            "299/299 [==============================] - 9s 30ms/step - loss: 7.3375e-04 - val_loss: 0.0011\b\b\b\b\b\b\b\b\b\b\b\b\b\b\b\b\b\b\b\b\b\b\b\b\b\b\b\b\b\b\b\b\b\b\b\b\b\b\b\b\b\b\b\b\b\n",
            "Epoch 61/100\n",
            "299/299 [==============================] - 8s 27ms/step - loss: 8.2015e-04 - val_loss: 0.0011\b\b\b\b\b\b\b\b\b\b\b\b\b\b\b\b\b\b\b\b\b\b\b\b\b\b\b\b\b\b\b\b\b\b\b\b\b\b\b\b\b\b\b\b\b\n",
            "Epoch 62/100\n",
            "299/299 [==============================] - 8s 27ms/step - loss: 7.8855e-04 - val_loss: 0.0012\b\b\b\b\b\b\b\b\b\b\b\b\b\b\b\b\b\b\b\b\b\b\b\b\b\b\b\b\b\b\b\b\b\b\b\b\b\b\b\b\b\b\b\b\b\n",
            "Epoch 63/100\n",
            "299/299 [==============================] - 8s 27ms/step - loss: 7.6300e-04 - val_loss: 0.0010\b\b\b\b\b\b\b\b\b\b\b\b\b\b\b\b\b\b\b\b\b\b\b\b\b\b\b\b\b\b\b\b\b\b\b\b\b\b\b\b\b\b\b\b\b\n",
            "Epoch 64/100\n",
            "299/299 [==============================] - 8s 27ms/step - loss: 7.7340e-04 - val_loss: 0.0014\b\b\b\b\b\b\b\b\b\b\b\b\b\b\b\b\b\b\b\b\b\b\b\b\b\b\b\b\b\b\b\b\b\b\b\b\b\b\b\b\b\b\b\b\b\n",
            "Epoch 65/100\n",
            "299/299 [==============================] - 8s 28ms/step - loss: 8.9214e-04 - val_loss: 9.2376e-04\b\b\b\b\b\b\b\b\b\b\b\b\b\b\b\b\b\b\b\b\b\b\b\b\b\b\b\b\b\b\b\b\b\b\b\b\b\b\b\b\b\n",
            "Epoch 66/100\n",
            "299/299 [==============================] - 8s 27ms/step - loss: 6.8128e-04 - val_loss: 9.5864e-04\b\b\b\b\b\b\b\b\b\b\b\b\b\b\b\b\b\b\b\b\b\b\b\b\b\b\b\b\b\b\b\b\b\b\b\b\b\b\b\b\b\n",
            "Epoch 67/100\n",
            "299/299 [==============================] - 9s 30ms/step - loss: 6.0624e-04 - val_loss: 9.5923e-04\b\b\b\b\b\b\b\b\b\b\b\b\b\b\b\b\b\b\b\b\b\b\b\b\b\b\b\b\b\b\b\b\b\b\b\b\b\b\b\b\b\n",
            "Epoch 68/100\n",
            "299/299 [==============================] - 9s 30ms/step - loss: 6.1769e-04 - val_loss: 0.0012\b\b\b\b\b\b\b\b\b\b\b\b\b\b\b\b\b\b\b\b\b\b\b\b\b\b\b\b\b\b\b\b\b\b\b\b\b\b\b\b\b\b\b\b\b\n",
            "Epoch 69/100\n",
            "299/299 [==============================] - 8s 27ms/step - loss: 7.6378e-04 - val_loss: 0.0012\b\b\b\b\b\b\b\b\b\b\b\b\b\b\b\b\b\b\b\b\b\b\b\b\b\b\b\b\b\b\b\b\b\b\b\b\b\b\b\b\b\b\b\b\b\n",
            "Epoch 70/100\n",
            "299/299 [==============================] - 8s 27ms/step - loss: 9.0269e-04 - val_loss: 0.0012\b\b\b\b\b\b\b\b\b\b\b\b\b\b\b\b\b\b\b\b\b\b\b\b\b\b\b\b\b\b\b\b\b\b\b\b\b\b\b\b\b\b\b\b\b\n",
            "Epoch 71/100\n",
            "299/299 [==============================] - 8s 27ms/step - loss: 7.7086e-04 - val_loss: 9.4871e-04\b\b\b\b\b\b\b\b\b\b\b\b\b\b\b\b\b\b\b\b\b\b\b\b\b\b\b\b\b\b\b\b\b\b\b\b\b\b\b\b\b\n",
            "Epoch 72/100\n",
            "299/299 [==============================] - 8s 27ms/step - loss: 5.7913e-04 - val_loss: 7.7304e-04\b\b\b\b\b\b\b\b\b\b\b\b\b\b\b\b\b\b\b\b\b\b\b\b\b\b\b\b\b\b\b\b\b\b\b\b\b\b\b\b\b\n",
            "Epoch 73/100\n",
            "299/299 [==============================] - 8s 27ms/step - loss: 4.9060e-04 - val_loss: 7.9391e-04\b\b\b\b\b\b\b\b\b\b\b\b\b\b\b\b\b\b\b\b\b\b\b\b\b\b\b\b\b\b\b\b\b\b\b\b\b\b\b\b\b\n",
            "Epoch 74/100\n",
            "299/299 [==============================] - 8s 27ms/step - loss: 7.5507e-04 - val_loss: 0.0011\b\b\b\b\b\b\b\b\b\b\b\b\b\b\b\b\b\b\b\b\b\b\b\b\b\b\b\b\b\b\b\b\b\b\b\b\b\b\b\b\b\b\b\b\b\n",
            "Epoch 75/100\n",
            "299/299 [==============================] - 8s 28ms/step - loss: 9.2438e-04 - val_loss: 0.0010\b\b\b\b\b\b\b\b\b\b\b\b\b\b\b\b\b\b\b\b\b\b\b\b\b\b\b\b\b\b\b\b\b\b\b\b\b\b\b\b\b\b\b\b\b\n",
            "Epoch 76/100\n",
            "299/299 [==============================] - 8s 27ms/step - loss: 6.3085e-04 - val_loss: 9.9036e-04\b\b\b\b\b\b\b\b\b\b\b\b\b\b\b\b\b\b\b\b\b\b\b\b\b\b\b\b\b\b\b\b\b\b\b\b\b\b\b\b\b\b\b\n",
            "Epoch 77/100\n",
            "299/299 [==============================] - 8s 27ms/step - loss: 5.5807e-04 - val_loss: 8.6683e-04\b\b\b\b\b\b\b\b\b\b\b\b\b\b\b\b\b\b\b\b\b\b\b\b\b\b\b\b\b\b\b\b\b\b\b\b\b\b\b\b\b\n",
            "Epoch 78/100\n",
            "299/299 [==============================] - 8s 27ms/step - loss: 4.8895e-04 - val_loss: 8.8869e-04\b\b\b\b\b\b\b\b\b\b\b\b\b\b\b\b\b\b\b\b\b\b\b\b\b\b\b\b\b\b\b\b\b\b\b\b\b\b\b\b\b\n",
            "Epoch 79/100\n",
            "299/299 [==============================] - 8s 27ms/step - loss: 5.6207e-04 - val_loss: 7.3887e-04\b\b\b\b\b\b\b\b\b\b\b\b\b\b\b\b\b\b\b\b\b\b\b\b\b\b\b\b\b\b\b\b\b\b\b\b\b\b\b\b\b\n",
            "Epoch 80/100\n",
            "299/299 [==============================] - 8s 27ms/step - loss: 5.1599e-04 - val_loss: 9.8784e-04\b\b\b\b\b\b\b\b\b\b\b\b\b\b\b\b\b\b\b\b\b\b\b\b\b\b\b\b\b\b\b\b\b\b\b\b\b\b\b\b\b\n",
            "Epoch 81/100\n",
            "299/299 [==============================] - 8s 27ms/step - loss: 0.0010 - val_loss: 0.0014\b\b\b\b\b\b\b\b\b\b\b\b\b\b\b\b\b\b\b\b\b\b\b\b\b\b\b\b\b\b\b\b\b\b\b\b\b\b\b\b\b\b\b\b\b\b\b\b\b\n",
            "Epoch 82/100\n",
            "299/299 [==============================] - 8s 27ms/step - loss: 5.9492e-04 - val_loss: 7.2848e-04\b\b\b\b\b\b\b\b\b\b\b\b\b\b\b\b\b\b\b\b\b\b\b\b\b\b\b\b\b\b\b\b\b\b\b\b\b\b\b\b\b\n",
            "Epoch 83/100\n",
            "299/299 [==============================] - 8s 27ms/step - loss: 4.4706e-04 - val_loss: 7.2316e-04\b\b\b\b\b\b\b\b\b\b\b\b\b\b\b\b\b\b\b\b\b\b\b\b\b\b\b\b\b\b\b\b\b\b\b\b\b\b\b\b\b\n",
            "Epoch 84/100\n",
            "299/299 [==============================] - 8s 28ms/step - loss: 5.2099e-04 - val_loss: 7.2522e-04\b\b\b\b\b\b\b\b\b\b\b\b\b\b\b\b\b\b\b\b\b\b\b\b\b\b\b\b\b\b\b\b\b\b\b\b\b\b\b\b\b\n",
            "Epoch 85/100\n",
            "299/299 [==============================] - 8s 25ms/step - loss: 4.3279e-04 - val_loss: 7.2127e-04\b\b\b\b\b\b\b\b\b\b\b\b\b\b\b\b\b\b\b\b\b\b\b\b\b\b\b\b\b\b\b\b\b\b\b\b\b\b\b\b\b\n",
            "Epoch 86/100\n",
            "299/299 [==============================] - 7s 22ms/step - loss: 8.2155e-04 - val_loss: 0.0020\b\b\b\b\b\b\b\b\b\b\b\b\b\b\b\b\b\b\b\b\b\b\b\b\b\b\b\b\b\b\b\b\b\b\b\b\b\b\b\b\b\b\b\b\b\n",
            "Epoch 87/100\n",
            "299/299 [==============================] - 6s 22ms/step - loss: 9.3633e-04 - val_loss: 9.6279e-04\b\b\b\b\b\b\b\b\b\b\b\b\b\b\b\b\b\b\b\b\b\b\b\b\b\b\b\b\b\b\b\b\b\b\b\b\b\b\b\b\b\n",
            "Epoch 88/100\n",
            "299/299 [==============================] - 7s 22ms/step - loss: 4.8626e-04 - val_loss: 7.0202e-04\b\b\b\b\b\b\b\b\b\b\b\b\b\b\b\b\b\b\b\b\b\b\b\b\b\b\b\b\b\b\b\b\b\b\b\b\b\b\b\b\b\n",
            "Epoch 89/100\n",
            "299/299 [==============================] - 6s 21ms/step - loss: 4.0171e-04 - val_loss: 7.5107e-04\b\b\b\b\b\b\b\b\b\b\b\b\b\b\b\b\b\b\b\b\b\b\b\b\b\b\b\b\b\b\b\b\b\b\b\b\b\b\b\b\b\n",
            "Epoch 90/100\n",
            "299/299 [==============================] - 6s 22ms/step - loss: 4.0494e-04 - val_loss: 6.5338e-04\b\b\b\b\b\b\b\b\b\b\b\b\b\b\b\b\b\b\b\b\b\b\b\b\b\b\b\b\b\b\b\b\b\b\b\b\b\b\b\b\b\n",
            "Epoch 91/100\n",
            "299/299 [==============================] - 7s 22ms/step - loss: 4.4435e-04 - val_loss: 7.2847e-04\b\b\b\b\b\b\b\b\b\b\b\b\b\b\b\b\b\b\b\b\b\b\b\b\b\b\b\b\b\b\b\b\b\b\b\b\b\b\b\b\b\n",
            "Epoch 92/100\n",
            "299/299 [==============================] - 6s 21ms/step - loss: 4.4382e-04 - val_loss: 6.5162e-04\b\b\b\b\b\b\b\b\b\b\b\b\b\b\b\b\b\b\b\b\b\b\b\b\b\b\b\b\b\b\b\b\b\b\b\b\b\b\b\b\b\n",
            "Epoch 93/100\n",
            "299/299 [==============================] - 7s 22ms/step - loss: 0.0011 - val_loss: 0.0013\b\b\b\b\b\b\b\b\b\b\b\b\b\b\b\b\b\b\b\b\b\b\b\b\b\b\b\b\b\b\b\b\b\b\b\b\b\b\b\b\b\b\b\b\b\b\b\b\b\n",
            "Epoch 94/100\n",
            "299/299 [==============================] - 7s 22ms/step - loss: 8.3554e-04 - val_loss: 8.7890e-04\b\b\b\b\b\b\b\b\b\b\b\b\b\b\b\b\b\b\b\b\b\b\b\b\b\b\b\b\b\b\b\b\b\b\b\b\b\b\b\b\b\n",
            "Epoch 95/100\n",
            "299/299 [==============================] - 6s 22ms/step - loss: 5.3828e-04 - val_loss: 7.2466e-04\b\b\b\b\b\b\b\b\b\b\b\b\b\b\b\b\b\b\b\b\b\b\b\b\b\b\b\b\b\b\b\b\b\b\b\b\b\b\b\b\b\n",
            "Epoch 96/100\n",
            "299/299 [==============================] - 7s 22ms/step - loss: 4.2503e-04 - val_loss: 6.1717e-04\b\b\b\b\b\b\b\b\b\b\b\b\b\b\b\b\b\b\b\b\b\b\b\b\b\b\b\b\b\b\b\b\b\b\b\b\b\b\b\b\b\n",
            "Epoch 97/100\n",
            "299/299 [==============================] - 6s 22ms/step - loss: 3.4397e-04 - val_loss: 5.8636e-04\b\b\b\b\b\b\b\b\b\b\b\b\b\b\b\b\b\b\b\b\b\b\b\b\b\b\b\b\b\b\b\b\b\b\b\b\b\b\b\b\b\n",
            "Epoch 98/100\n",
            "299/299 [==============================] - 7s 22ms/step - loss: 3.9292e-04 - val_loss: 6.6666e-04\b\b\b\b\b\b\b\b\b\b\b\b\b\b\b\b\b\b\b\b\b\b\b\b\b\b\b\b\b\b\b\b\b\b\b\b\b\b\b\b\b\n",
            "Epoch 99/100\n",
            "299/299 [==============================] - 6s 21ms/step - loss: 3.3946e-04 - val_loss: 5.9960e-04\b\b\b\b\b\b\b\b\b\b\b\b\b\b\b\b\b\b\b\b\b\b\b\b\b\b\b\b\b\b\b\b\b\b\b\b\b\b\b\b\b\n",
            "Epoch 100/100\n",
            "299/299 [==============================] - 6s 22ms/step - loss: 3.8701e-04 - val_loss: 8.0539e-04\b\b\b\b\b\b\b\b\b\b\b\b\b\b\b\b\b\b\b\b\b\b\b\b\b\b\b\b\b\b\b\b\b\b\b\b\b\b\b\b\b\n"
          ]
        },
        {
          "output_type": "execute_result",
          "execution_count": 6,
          "data": {
            "text/plain": [
              "<keras.callbacks.History at 0x119b7a828>"
            ]
          },
          "metadata": {}
        }
      ],
      "execution_count": 6,
      "metadata": {
        "collapsed": false,
        "outputHidden": false,
        "inputHidden": false
      }
    },
    {
      "cell_type": "code",
      "source": [
        "y_predict=model.predict(test_X)\n",
        "test_Y=test_Y.reshape(test_Y.shape[0],64,64)\n",
        "print(y_predict.shape)\n",
        "y_predit2=y_predict.reshape(y_predict.shape[0],64,64)\n",
        "print(y_predit2.shape)\n",
        "plt.imshow(test_Y[13])\n",
        "plt.imshow(y_predit2[13])"
      ],
      "outputs": [
        {
          "output_type": "stream",
          "name": "stdout",
          "text": [
            "(184, 64, 64, 1)\n",
            "(184, 64, 64)\n"
          ]
        },
        {
          "output_type": "execute_result",
          "execution_count": 63,
          "data": {
            "text/plain": [
              "<matplotlib.image.AxesImage at 0x13beaba90>"
            ]
          },
          "metadata": {}
        },
        {
          "output_type": "display_data",
          "data": {
            "text/plain": [
              "<matplotlib.figure.Figure at 0x136ca30f0>"
            ],
            "image/png": "[encoded data removed]"
          },
          "metadata": {}
        }
      ],
      "execution_count": 63,
      "metadata": {
        "collapsed": false,
        "outputHidden": false,
        "inputHidden": false
      }
    },
    {
      "cell_type": "code",
      "source": [
        "Out[6]"
      ],
      "outputs": [
        {
          "output_type": "execute_result",
          "execution_count": 66,
          "data": {
            "text/plain": [
              "<keras.callbacks.History at 0x119b7a828>"
            ]
          },
          "metadata": {}
        }
      ],
      "execution_count": 66,
      "metadata": {
        "collapsed": false,
        "outputHidden": false,
        "inputHidden": false
      }
    },
    {
      "cell_type": "code",
      "source": [
        "Out[6].'loss'"
      ],
      "outputs": [
        {
          "output_type": "error",
          "ename": "SyntaxError",
          "evalue": "invalid syntax (<ipython-input-72-98ee1186444d>, line 1)",
          "traceback": [
            "\u001b[0;36m  File \u001b[0;32m\"<ipython-input-72-98ee1186444d>\"\u001b[0;36m, line \u001b[0;32m1\u001b[0m\n\u001b[0;31m    Out[6].'loss'\u001b[0m\n\u001b[0m                ^\u001b[0m\n\u001b[0;31mSyntaxError\u001b[0m\u001b[0;31m:\u001b[0m invalid syntax\n"
          ]
        }
      ],
      "execution_count": 72,
      "metadata": {
        "collapsed": false,
        "outputHidden": false,
        "inputHidden": false
      }
    },
    {
      "cell_type": "markdown",
      "source": [
        "1. Increase neurons\n",
        "2. Train longer (epochs)\n",
        "3. "
      ],
      "metadata": {
        "collapsed": false,
        "outputHidden": false,
        "inputHidden": false
      }
    }
  ],
  "metadata": {
    "kernel_info": {
      "name": "python3"
    },
    "language_info": {
      "name": "python",
      "version": "3.6.4",
      "mimetype": "text/x-python",
      "codemirror_mode": {
        "name": "ipython",
        "version": 3
      },
      "pygments_lexer": "ipython3",
      "nbconvert_exporter": "python",
      "file_extension": ".py"
    },
    "kernelspec": {
      "name": "python3",
      "language": "python",
      "display_name": "Python 3"
    },
    "nteract": {
      "version": "0.10.0"
    }
  },
  "nbformat": 4,
  "nbformat_minor": 4
}