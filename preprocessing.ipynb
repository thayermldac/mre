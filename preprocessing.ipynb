{
  "cells": [
    {
      "cell_type": "markdown",
      "source": [
        "## Project: Deep Learning in for MR Elastography\n",
        "### A. Pre-processing"
      ],
      "metadata": {}
    },
    {
      "cell_type": "code",
      "source": [
        "import scipy.io\n",
        "import keras\n",
        "import numpy as np\n",
        "import matplotlib.pyplot as plt\n",
        "import os,sys\n",
        "import pandas as pd\n",
        "import random \n",
        "\n",
        "from keras.datasets import mnist\n",
        "from keras.utils import np_utils\n",
        "\n",
        "%matplotlib inline \n",
        "\n"
      ],
      "outputs": [],
      "execution_count": 49,
      "metadata": {
        "collapsed": false,
        "outputHidden": false,
        "inputHidden": false
      }
    },
    {
      "cell_type": "markdown",
      "source": [
        "### Data cleaning"
      ],
      "metadata": {}
    },
    {
      "cell_type": "code",
      "source": [
        "root='/Users/liginsolamen/MRE/MREData/DataSlice'\n",
        "matfiles=[]\n",
        "for path,dirs,files in os.walk(root,topdown=True):\n",
        "    for file in files:\n",
        "        if file.endswith('.mat'):\n",
        "            matfiles.append(os.path.join(path,file))\n"
      ],
      "outputs": [],
      "execution_count": 9,
      "metadata": {
        "collapsed": false,
        "outputHidden": false,
        "inputHidden": false
      }
    },
    {
      "cell_type": "code",
      "source": [
        "int(matfile.replace('_','/').split('/')[-1][:-4])"
      ],
      "outputs": [
        {
          "output_type": "execute_result",
          "execution_count": 72,
          "data": {
            "text/plain": [
              "3"
            ]
          },
          "metadata": {}
        }
      ],
      "execution_count": 72,
      "metadata": {
        "collapsed": false,
        "outputHidden": false,
        "inputHidden": false
      }
    },
    {
      "cell_type": "code",
      "source": [
        "Ur=[]\n",
        "Ui=[]\n",
        "Freq=[]\n",
        "RS=[]\n",
        "Filename=[]\n",
        "Fslice=[]\n",
        "\n",
        "for matfile in matfiles:\n",
        "    bb=scipy.io.loadmat(matfile)\n",
        "    Ur.append(bb['Ur_slice'])\n",
        "    Ui.append(bb['Ui_slice'])\n",
        "    Freq.append(bb['freq_slice'][0][0])\n",
        "    RS.append(bb['RealShear_slice'])\n",
        "    Filename.append(matfile.split('/')[-1])\n",
        "    Fslice.append(int(matfile.replace('_','/').split('/')[-1][:-4]))\n",
        "    #Fslice retrieves the slice number of the data set.\n",
        "    \n",
        "    \n",
        "    \n",
        "    "
      ],
      "outputs": [],
      "execution_count": 77,
      "metadata": {
        "collapsed": false,
        "outputHidden": false,
        "inputHidden": false
      }
    },
    {
      "cell_type": "markdown",
      "source": [
        "#### Data in Pandas dataframe:\n",
        "#### Ui, Ur: 3D displacement amplitude vector\n",
        "#### Rs: shear stiffness"
      ],
      "metadata": {}
    },
    {
      "cell_type": "code",
      "source": [
        "df=pd.DataFrame({'Filename' : pd.Series(Filename),\n",
        "                 'Fslice'   : pd.Series(Fslice),\n",
        "                 'Ur'       : pd.Series(Ur),\n",
        "                 'Ui'       : pd.Series(Ui),\n",
        "                 'Freq'     : pd.Series(Freq),\n",
        "                 'RS'       : pd.Series(RS)})"
      ],
      "outputs": [],
      "execution_count": 78,
      "metadata": {
        "collapsed": false,
        "outputHidden": false,
        "inputHidden": false
      }
    },
    {
      "cell_type": "code",
      "source": [
        "print('Number of samples: {}'.format(len(df)))"
      ],
      "outputs": [
        {
          "output_type": "stream",
          "name": "stdout",
          "text": [
            "Number of samples: 612\n"
          ]
        }
      ],
      "execution_count": 42,
      "metadata": {}
    },
    {
      "cell_type": "code",
      "source": [
        "df.head(n=2)"
      ],
      "outputs": [
        {
          "output_type": "execute_result",
          "execution_count": 76,
          "data": {
            "text/plain": [
              "            Filename  Freq  Fslice  \\\n",
              "0  Data4slice_16.mat    50      16   \n",
              "1  Data1slice_13.mat   100      13   \n",
              "\n",
              "                                                  RS  \\\n",
              "0  [[0, 0, 0, 0, 0, 0, 0, 0, 0, 0, 0, 0, 0, 0, 0,...   \n",
              "1  [[0, 0, 0, 0, 0, 0, 0, 0, 0, 0, 0, 0, 0, 0, 0,...   \n",
              "\n",
              "                                                  Ui  \\\n",
              "0  [[[0.0, 0.0, 0.0], [0.0, 0.0, 0.0], [0.0, 0.0,...   \n",
              "1  [[[0.0, 0.0, 0.0], [0.0, 0.0, 0.0], [0.0, 0.0,...   \n",
              "\n",
              "                                                  Ur  \n",
              "0  [[[0.0, 0.0, 0.0], [0.0, 0.0, 0.0], [0.0, 0.0,...  \n",
              "1  [[[0.0, 0.0, 0.0], [0.0, 0.0, 0.0], [0.0, 0.0,...  "
            ],
            "text/html": [
              "<div>\n",
              "<style scoped>\n",
              "    .dataframe tbody tr th:only-of-type {\n",
              "        vertical-align: middle;\n",
              "    }\n",
              "\n",
              "    .dataframe tbody tr th {\n",
              "        vertical-align: top;\n",
              "    }\n",
              "\n",
              "    .dataframe thead th {\n",
              "        text-align: right;\n",
              "    }\n",
              "</style>\n",
              "<table border=\"1\" class=\"dataframe\">\n",
              "  <thead>\n",
              "    <tr style=\"text-align: right;\">\n",
              "      <th></th>\n",
              "      <th>Filename</th>\n",
              "      <th>Freq</th>\n",
              "      <th>Fslice</th>\n",
              "      <th>RS</th>\n",
              "      <th>Ui</th>\n",
              "      <th>Ur</th>\n",
              "    </tr>\n",
              "  </thead>\n",
              "  <tbody>\n",
              "    <tr>\n",
              "      <th>0</th>\n",
              "      <td>Data4slice_16.mat</td>\n",
              "      <td>50</td>\n",
              "      <td>16</td>\n",
              "      <td>[[0, 0, 0, 0, 0, 0, 0, 0, 0, 0, 0, 0, 0, 0, 0,...</td>\n",
              "      <td>[[[0.0, 0.0, 0.0], [0.0, 0.0, 0.0], [0.0, 0.0,...</td>\n",
              "      <td>[[[0.0, 0.0, 0.0], [0.0, 0.0, 0.0], [0.0, 0.0,...</td>\n",
              "    </tr>\n",
              "    <tr>\n",
              "      <th>1</th>\n",
              "      <td>Data1slice_13.mat</td>\n",
              "      <td>100</td>\n",
              "      <td>13</td>\n",
              "      <td>[[0, 0, 0, 0, 0, 0, 0, 0, 0, 0, 0, 0, 0, 0, 0,...</td>\n",
              "      <td>[[[0.0, 0.0, 0.0], [0.0, 0.0, 0.0], [0.0, 0.0,...</td>\n",
              "      <td>[[[0.0, 0.0, 0.0], [0.0, 0.0, 0.0], [0.0, 0.0,...</td>\n",
              "    </tr>\n",
              "  </tbody>\n",
              "</table>\n",
              "</div>"
            ]
          },
          "metadata": {}
        }
      ],
      "execution_count": 76,
      "metadata": {
        "collapsed": false,
        "outputHidden": false,
        "inputHidden": false
      }
    },
    {
      "cell_type": "code",
      "source": [
        "df.groupby('Freq').size().plot(kind='bar')\n"
      ],
      "outputs": [
        {
          "output_type": "execute_result",
          "execution_count": 41,
          "data": {
            "text/plain": [
              "<matplotlib.axes._subplots.AxesSubplot at 0x119b64a20>"
            ]
          },
          "metadata": {}
        },
        {
          "output_type": "display_data",
          "data": {
            "text/plain": [
              "<Figure size 432x288 with 1 Axes>"
            ],
            "image/png": "[encoded data removed]"
          },
          "metadata": {}
        }
      ],
      "execution_count": 41,
      "metadata": {
        "collapsed": false,
        "outputHidden": false,
        "inputHidden": false
      }
    },
    {
      "cell_type": "markdown",
      "source": [
        "### Example of one slice of image"
      ],
      "metadata": {}
    },
    {
      "cell_type": "code",
      "source": [
        "df.to_msgpack('/Users/liginsolamen/MRE/MREData/MREdata_070718.msg')\n"
      ],
      "outputs": [],
      "execution_count": 84,
      "metadata": {
        "collapsed": false,
        "outputHidden": false,
        "inputHidden": false
      }
    },
    {
      "cell_type": "code",
      "source": [
        "import matplotlib.pyplot as plt\n",
        "import pandas as pd\n",
        "import random"
      ],
      "outputs": [],
      "execution_count": 5,
      "metadata": {
        "collapsed": false,
        "outputHidden": false,
        "inputHidden": false
      }
    },
    {
      "cell_type": "code",
      "source": [
        "df=pd.read_msgpack('/Users/syp/Desktop/git/mre/MREdata_072118.msg')"
      ],
      "outputs": [],
      "execution_count": 3,
      "metadata": {
        "collapsed": false,
        "outputHidden": false,
        "inputHidden": false
      }
    },
    {
      "cell_type": "code",
      "source": [
        "k=random.sample(range(len(df)),1)[0]\n",
        "imU=(df.Ui[k])**2+(df.Ur[k])**2\n",
        "imR=(df.RS[k])"
      ],
      "outputs": [],
      "execution_count": 46,
      "metadata": {
        "collapsed": false,
        "outputHidden": false,
        "inputHidden": false
      }
    },
    {
      "cell_type": "code",
      "source": [
        "ax=plt.subplot(1, 3, 1)\n",
        "plt.imshow(im[:,:,0],origin='lower')\n",
        "plt.title('x')\n",
        "ax=plt.subplot(1, 3, 2)\n",
        "plt.imshow(im[:,:,1],origin='lower')\n",
        "plt.title('y')\n",
        "ax=plt.subplot(1, 3, 3)\n",
        "plt.imshow(im[:,:,1],origin='lower')\n",
        "plt.title('z')"
      ],
      "outputs": [
        {
          "output_type": "execute_result",
          "execution_count": 47,
          "data": {
            "text/plain": [
              "Text(0.5,1,'z')"
            ]
          },
          "metadata": {}
        },
        {
          "output_type": "display_data",
          "data": {
            "text/plain": [
              "<Figure size 432x288 with 3 Axes>"
            ],
            "image/png": "[encoded data removed]"
          },
          "metadata": {}
        }
      ],
      "execution_count": 47,
      "metadata": {
        "collapsed": false,
        "outputHidden": false,
        "inputHidden": false
      }
    },
    {
      "cell_type": "code",
      "source": [
        "plt.imshow(imR,origin='lower')"
      ],
      "outputs": [
        {
          "output_type": "execute_result",
          "execution_count": 48,
          "data": {
            "text/plain": [
              "<matplotlib.image.AxesImage at 0x11a059e10>"
            ]
          },
          "metadata": {}
        },
        {
          "output_type": "display_data",
          "data": {
            "text/plain": [
              "<Figure size 432x288 with 1 Axes>"
            ],
            "image/png": "[encoded data removed]"
          },
          "metadata": {}
        }
      ],
      "execution_count": 48,
      "metadata": {
        "collapsed": false,
        "outputHidden": false,
        "inputHidden": false
      }
    },
    {
      "cell_type": "code",
      "source": [],
      "outputs": [],
      "execution_count": null,
      "metadata": {
        "collapsed": false,
        "outputHidden": false,
        "inputHidden": false
      }
    }
  ],
  "metadata": {
    "kernel_info": {
      "name": "python3"
    },
    "language_info": {
      "name": "python",
      "version": "3.6.5",
      "mimetype": "text/x-python",
      "codemirror_mode": {
        "name": "ipython",
        "version": 3
      },
      "pygments_lexer": "ipython3",
      "nbconvert_exporter": "python",
      "file_extension": ".py"
    },
    "kernelspec": {
      "name": "python3",
      "language": "python",
      "display_name": "Python 3"
    },
    "nteract": {
      "version": "0.10.0"
    }
  },
  "nbformat": 4,
  "nbformat_minor": 4
}