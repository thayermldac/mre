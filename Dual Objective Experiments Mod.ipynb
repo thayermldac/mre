{
  "cells": [
    {
      "cell_type": "code",
      "source": [
        "%matplotlib inline \n",
        "\n",
        "# Basics\n",
        "import numpy as np\n",
        "import matplotlib.pyplot as plt\n",
        "import pandas as pd\n",
        "import random\n",
        "\n",
        "# Keras\n",
        "import keras\n",
        "import keras.backend as K\n",
        "from keras.models import Model, load_model\n",
        "from keras.layers import Input, Dense, Conv2D, Lambda, UpSampling2D\n",
        "from keras.layers import Dropout, BatchNormalization, multiply, dot\n",
        "\n",
        "# Others\n",
        "from sklearn.preprocessing import MinMaxScaler, RobustScaler\n",
        "from sklearn.model_selection import train_test_split\n",
        "from sklearn.metrics import mean_squared_error"
      ],
      "outputs": [],
      "execution_count": 3,
      "metadata": {
        "collapsed": false,
        "outputHidden": false,
        "inputHidden": false
      }
    },
    {
      "cell_type": "code",
      "source": [
        "# Load Dataset\n",
        "df=pd.read_msgpack('MREdata_102418.msg')"
      ],
      "outputs": [],
      "execution_count": 4,
      "metadata": {
        "collapsed": false,
        "outputHidden": false,
        "inputHidden": false
      }
    },
    {
      "cell_type": "code",
      "source": [
        "# Prepare Data\n",
        "Ur = np.stack(df.Ur.values,axis=3).transpose(3,0,1,2)\n",
        "Ui = np.stack(df.Ui.values,axis=3).transpose(3,0,1,2)\n",
        "x_data = np.sqrt(Ui**2+Ur**2)\n",
        "\n",
        "y_data = np.stack(df.RS.values,axis=2).transpose(2,0,1)\n",
        "y_data = y_data/10000.\n",
        "\n",
        "print 'X size:', x_data.shape\n",
        "print 'Y size:', y_data.shape"
      ],
      "outputs": [
        {
          "output_type": "stream",
          "name": "stdout",
          "text": [
            "X size: (1419, 64, 64, 3)\n",
            "Y size: (1419, 64, 64)\n"
          ]
        }
      ],
      "execution_count": 5,
      "metadata": {
        "collapsed": false,
        "outputHidden": false,
        "inputHidden": false
      }
    },
    {
      "cell_type": "code",
      "source": [
        "# Split to Train & Valid\n",
        "x_train, x_test, y_train, y_test = train_test_split(x_data,y_data,test_size=0.3)\n",
        "x_train, x_valid, y_train, y_valid = train_test_split(x_train,y_train,test_size=0.2)\n",
        "\n",
        "print 'Training examples:   ', len(x_train)\n",
        "print 'Validation examples: ', len(x_valid)\n",
        "print 'Testing examples:    ', len(x_test)"
      ],
      "outputs": [
        {
          "output_type": "stream",
          "name": "stdout",
          "text": [
            "Training examples:    794\n",
            "Validation examples:  199\n",
            "Testing examples:     426\n"
          ]
        }
      ],
      "execution_count": 8,
      "metadata": {
        "collapsed": false,
        "outputHidden": false,
        "inputHidden": false
      }
    },
    {
      "cell_type": "markdown",
      "source": [
        "## Building Neural Network"
      ],
      "metadata": {
        "collapsed": false,
        "outputHidden": false,
        "inputHidden": false
      }
    },
    {
      "cell_type": "markdown",
      "source": [
        "### Dual Objective\n",
        "We want to use a secondary objective function based on the expression:\n",
        "$$\\nabla \\cdot(\\mu (\\nabla u + \\nabla u^\\intercal)) + \\nabla(\\lambda \\cdot u)  = - \\omega \\rho u$$\n",
        "\n",
        "A possible matrix simplification could be:\n",
        "$$\\mu \\cdot u\\prime\\prime + \\lambda \\cdot u\\prime\\prime = - \\omega\\rho u$$\n",
        "\n",
        "A simpler objective that we can use is:\n",
        "$$\\mu\\nabla^2u = -\\omega \\rho u$$\n"
      ],
      "metadata": {
        "collapsed": false,
        "outputHidden": false,
        "inputHidden": false
      }
    },
    {
      "cell_type": "code",
      "source": [
        "def laplace(x):\n",
        "    # Make Kernel\n",
        "    a = np.asarray([[0., 1., 0.],\n",
        "                    [1.,-4., 1.],\n",
        "                    [0., 1., 0.]])    \n",
        "#     a = np.asarray([[0.5, 1.0, 0.5],\n",
        "#                     [1.0, -6., 1.0],\n",
        "#                     [0.5, 1.0, 0.5]])\n",
        "    a = a.reshape(list(a.shape) + [1,1])\n",
        "    kernel = K.constant(a,dtype=1)\n",
        "    \n",
        "    # Do Convolution\n",
        "    x = K.expand_dims(K.expand_dims(x, 0), -1)\n",
        "    y = K.depthwise_conv2d(x,kernel, padding='same')\n",
        "    \n",
        "    return y[0,:,:,0]\n",
        "\n",
        "def laplacian(x):\n",
        "    u = K.tf.norm(x,axis=3)\n",
        "    return K.map_fn(laplace,u)\n",
        "\n",
        "def laplacian3D(x):\n",
        "    u1 = K.map_fn(laplace,x[:,:,:,0])\n",
        "    u2 = K.map_fn(laplace,x[:,:,:,1])\n",
        "    u3 = K.map_fn(laplace,x[:,:,:,2])\n",
        "    u  = K.tf.stack([u1,u2,u3],axis=3)\n",
        "    return u\n",
        "\n",
        "def stack3D(x):\n",
        "    return K.tf.stack([x,x,x],axis=3)"
      ],
      "outputs": [],
      "execution_count": 9,
      "metadata": {
        "collapsed": false,
        "outputHidden": false,
        "inputHidden": false
      }
    },
    {
      "cell_type": "code",
      "source": [
        "# Parameters\n",
        "xshp   = x_train.shape[1:]\n",
        "nbatch = 16\n",
        "nepoch = 200\n",
        "\n",
        "# Architecture\n",
        "L1 = 64\n",
        "L2 = 50\n",
        "L3 = 32\n",
        "L4 = 50"
      ],
      "outputs": [],
      "execution_count": 10,
      "metadata": {
        "collapsed": false,
        "outputHidden": false,
        "inputHidden": false
      }
    },
    {
      "cell_type": "code",
      "source": [
        "# Build Neural Model\n",
        "\n",
        "# Encoding\n",
        "x  = Input(shape=xshp,name='Input')\n",
        "h  = Conv2D(L1,kernel_size=(5,5),strides=(2,2),activation='relu',padding='same',name='E1')(x)\n",
        "h  = Conv2D(L2,kernel_size=(3,3),strides=(2,2),activation='relu',padding='same',name='E2')(h)\n",
        "h  = Conv2D(L3,kernel_size=(3,3),strides=(2,2),activation='relu',padding='same',name='E3')(h)\n",
        "e  = Conv2D(L4,kernel_size=(2,2),strides=(1,1),activation='relu',padding='same',name='E4')(h)\n",
        "\n",
        "# Decoding\n",
        "h  = Conv2D(L4,kernel_size=(2,2),activation='relu',padding='same',name='D1')(e)\n",
        "h  = UpSampling2D((2,2))(h)\n",
        "h  = Conv2D(L3,kernel_size=(3,3),activation='relu',padding='same',name='D2')(h)\n",
        "h  = UpSampling2D((2,2))(h)\n",
        "h  = Conv2D(L2,kernel_size=(3,3),activation='relu',padding='same',name='D3')(h)\n",
        "h  = UpSampling2D((2,2))(h)\n",
        "h  = Conv2D(1,kernel_size=(5,5),activation='relu',padding='same',name='D4')(h)\n",
        "y  = Lambda(lambda xx: K.squeeze(xx,3),name='Recon')(h)\n",
        "\n",
        "# Laplacian\n",
        "l = Lambda(laplacian3D,name='Laplacian')(x)\n",
        "m = Lambda(stack3D,name='Mu3D')(y)\n",
        "z = multiply([m,l],name='Mre')\n",
        "\n",
        "# Build Model\n",
        "model = Model(inputs=x,outputs=y)\n",
        "\n",
        "# Build Aux Model\n",
        "aux   = Model(inputs=x,outputs=[y,z])\n",
        "aux.summary()"
      ],
      "outputs": [
        {
          "output_type": "stream",
          "name": "stdout",
          "text": [
            "__________________________________________________________________________________________________\n",
            "Layer (type)                    Output Shape         Param #     Connected to                     \n",
            "==================================================================================================\n",
            "Input (InputLayer)              (None, 64, 64, 3)    0                                            \n",
            "__________________________________________________________________________________________________\n",
            "E1 (Conv2D)                     (None, 32, 32, 64)   4864        Input[0][0]                      \n",
            "__________________________________________________________________________________________________\n",
            "E2 (Conv2D)                     (None, 16, 16, 50)   28850       E1[0][0]                         \n",
            "__________________________________________________________________________________________________\n",
            "E3 (Conv2D)                     (None, 8, 8, 32)     14432       E2[0][0]                         \n",
            "__________________________________________________________________________________________________\n",
            "E4 (Conv2D)                     (None, 8, 8, 50)     6450        E3[0][0]                         \n",
            "__________________________________________________________________________________________________\n",
            "D1 (Conv2D)                     (None, 8, 8, 50)     10050       E4[0][0]                         \n",
            "__________________________________________________________________________________________________\n",
            "up_sampling2d_1 (UpSampling2D)  (None, 16, 16, 50)   0           D1[0][0]                         \n",
            "__________________________________________________________________________________________________\n",
            "D2 (Conv2D)                     (None, 16, 16, 32)   14432       up_sampling2d_1[0][0]            \n",
            "__________________________________________________________________________________________________\n",
            "up_sampling2d_2 (UpSampling2D)  (None, 32, 32, 32)   0           D2[0][0]                         \n",
            "__________________________________________________________________________________________________\n",
            "D3 (Conv2D)                     (None, 32, 32, 50)   14450       up_sampling2d_2[0][0]            \n",
            "__________________________________________________________________________________________________\n",
            "up_sampling2d_3 (UpSampling2D)  (None, 64, 64, 50)   0           D3[0][0]                         \n",
            "__________________________________________________________________________________________________\n",
            "D4 (Conv2D)                     (None, 64, 64, 1)    1251        up_sampling2d_3[0][0]            \n",
            "__________________________________________________________________________________________________\n",
            "Recon (Lambda)                  (None, 64, 64)       0           D4[0][0]                         \n",
            "__________________________________________________________________________________________________\n",
            "Mu3D (Lambda)                   (None, 64, 64, 3)    0           Recon[0][0]                      \n",
            "__________________________________________________________________________________________________\n",
            "Laplacian (Lambda)              (None, 64, 64, 3)    0           Input[0][0]                      \n",
            "__________________________________________________________________________________________________\n",
            "Mre (Multiply)                  (None, 64, 64, 3)    0           Mu3D[0][0]                       \n",
            "                                                                 Laplacian[0][0]                  \n",
            "==================================================================================================\n",
            "Total params: 94,779\n",
            "Trainable params: 94,779\n",
            "Non-trainable params: 0\n",
            "__________________________________________________________________________________________________\n"
          ]
        }
      ],
      "execution_count": 11,
      "metadata": {
        "collapsed": false,
        "outputHidden": false,
        "inputHidden": false
      }
    },
    {
      "cell_type": "code",
      "source": [
        "# Compiling Model\n",
        "model.compile(loss='mse',optimizer='adam')\n",
        "aux.compile(loss='mse',loss_weights=[1.0,3.0],optimizer='adam')"
      ],
      "outputs": [],
      "execution_count": 12,
      "metadata": {
        "collapsed": false,
        "outputHidden": false,
        "inputHidden": false
      }
    },
    {
      "cell_type": "code",
      "source": [
        "# Train Model\n",
        "log = aux.fit(x_train,[y_train,x_train],\n",
        "             validation_data=(x_valid,[y_valid,x_valid]),\n",
        "             epochs=nepoch,\n",
        "             batch_size=nbatch)"
      ],
      "outputs": [
        {
          "output_type": "stream",
          "name": "stdout",
          "text": [
            "Train on 794 samples, validate on 199 samples\n",
            "Epoch 1/200\n",
            "794/794 [==============================] - 26s 33ms/step - loss: 0.0519 - Recon_loss: 0.0500 - Mre_loss: 6.2857e-04 - val_loss: 0.0443 - val_Recon_loss: 0.0432 - val_Mre_loss: 3.9124e-04\b\b\b\b\b\b\b\b\b\b\b\b\b\b\b\b\b\b\b\b\b\b\b\b\b\b\b\b\b\b\b\b\b\b\b\b\n",
            "Epoch 2/200\n",
            "794/794 [==============================] - 25s 31ms/step - loss: 0.0424 - Recon_loss: 0.0404 - Mre_loss: 6.4471e-04 - val_loss: 0.0375 - val_Recon_loss: 0.0361 - val_Mre_loss: 4.4136e-04\b\b\b\b\b\b\b\b\b\b\b\b\b\b\b\b\b\b\b\b\b\b\b\b\b\b\b\b\b\b\b\b\b\b\n",
            "Epoch 3/200\n",
            "794/794 [==============================] - 25s 32ms/step - loss: 0.0393 - Recon_loss: 0.0373 - Mre_loss: 6.6885e-04 - val_loss: 0.0411 - val_Recon_loss: 0.0399 - val_Mre_loss: 3.9461e-04\b\b\b\b\b\b\b\b\b\b\b\b\b\b\b\b\b\b\b\b\b\b\b\b\b\b\b\b\b\b\b\b\b\b\n",
            "Epoch 4/200\n",
            "794/794 [==============================] - 25s 31ms/step - loss: 0.0374 - Recon_loss: 0.0355 - Mre_loss: 6.6264e-04 - val_loss: 0.0343 - val_Recon_loss: 0.0330 - val_Mre_loss: 4.4288e-04\b\b\b\b\b\b\b\b\b\b\b\b\b\b\b\b\b\b\b\b\b\b\b\b\b\b\b\b\b\b\b\b\b\b\n",
            "Epoch 5/200\n",
            "794/794 [==============================] - 24s 30ms/step - loss: 0.0348 - Recon_loss: 0.0329 - Mre_loss: 6.6136e-04 - val_loss: 0.0343 - val_Recon_loss: 0.0330 - val_Mre_loss: 4.1205e-04\b\b\b\b\b\b\b\b\b\b\b\b\b\b\b\b\b\b\b\b\b\b\b\b\b\b\b\b\b\b\b\b\b\b\n",
            "Epoch 6/200\n",
            "794/794 [==============================] - 24s 31ms/step - loss: 0.0336 - Recon_loss: 0.0316 - Mre_loss: 6.5770e-04 - val_loss: 0.0277 - val_Recon_loss: 0.0264 - val_Mre_loss: 4.3164e-04\b\b\b\b\b\b\b\b\b\b\b\b\b\b\b\b\b\b\b\b\b\b\b\b\b\b\b\b\b\b\b\b\b\b\n",
            "Epoch 7/200\n",
            "794/794 [==============================] - 24s 30ms/step - loss: 0.0295 - Recon_loss: 0.0275 - Mre_loss: 6.7046e-04 - val_loss: 0.0301 - val_Recon_loss: 0.0289 - val_Mre_loss: 4.1778e-04\b\b\b\b\b\b\b\b\b\b\b\b\b\b\b\b\b\b\b\b\b\b\b\b\b\b\b\b\b\b\b\b\b\b\n",
            "Epoch 8/200\n",
            "794/794 [==============================] - 24s 30ms/step - loss: 0.0327 - Recon_loss: 0.0307 - Mre_loss: 6.5689e-04 - val_loss: 0.0256 - val_Recon_loss: 0.0243 - val_Mre_loss: 4.5054e-04\b\b\b\b\b\b\b\b\b\b\b\b\b\b\b\b\b\b\b\b\b\b\b\b\b\b\b\b\b\b\b\b\b\b\n",
            "Epoch 9/200\n",
            "794/794 [==============================] - 26s 33ms/step - loss: 0.0265 - Recon_loss: 0.0246 - Mre_loss: 6.6309e-04 - val_loss: 0.0231 - val_Recon_loss: 0.0217 - val_Mre_loss: 4.5090e-04\b\b\b\b\b\b\b\b\b\b\b\b\b\b\b\b\b\b\b\b\b\b\b\b\b\b\b\b\b\b\b\b\b\b\n",
            "Epoch 10/200\n",
            "794/794 [==============================] - 25s 31ms/step - loss: 0.0245 - Recon_loss: 0.0225 - Mre_loss: 6.6793e-04 - val_loss: 0.0216 - val_Recon_loss: 0.0204 - val_Mre_loss: 4.2156e-04\b\b\b\b\b\b\b\b\b\b\b\b\b\b\b\b\b\b\b\b\b\b\b\b\b\b\b\b\b\b\b\b\b\b\n",
            "Epoch 11/200\n",
            "794/794 [==============================] - 23s 29ms/step - loss: 0.0241 - Recon_loss: 0.0221 - Mre_loss: 6.6888e-04 - val_loss: 0.0209 - val_Recon_loss: 0.0196 - val_Mre_loss: 4.2587e-04\b\b\b\b\b\b\b\b\b\b\b\b\b\b\b\b\b\b\b\b\b\b\b\b\b\b\b\b\b\b\b\b\b\b\n",
            "Epoch 12/200\n",
            "794/794 [==============================] - 24s 30ms/step - loss: 0.0235 - Recon_loss: 0.0215 - Mre_loss: 6.6622e-04 - val_loss: 0.0207 - val_Recon_loss: 0.0194 - val_Mre_loss: 4.2322e-04\b\b\b\b\b\b\b\b\b\b\b\b\b\b\b\b\b\b\b\b\b\b\b\b\b\b\b\b\b\b\b\b\b\b\n",
            "Epoch 13/200\n",
            "794/794 [==============================] - 23s 30ms/step - loss: 0.0217 - Recon_loss: 0.0197 - Mre_loss: 6.6776e-04 - val_loss: 0.0195 - val_Recon_loss: 0.0182 - val_Mre_loss: 4.2653e-04\b\b\b\b\b\b\b\b\b\b\b\b\b\b\b\b\b\b\b\b\b\b\b\b\b\b\b\b\b\b\b\b\b\b\n",
            "Epoch 14/200\n",
            "794/794 [==============================] - 23s 30ms/step - loss: 0.0221 - Recon_loss: 0.0201 - Mre_loss: 6.6773e-04 - val_loss: 0.0196 - val_Recon_loss: 0.0183 - val_Mre_loss: 4.2177e-04\b\b\b\b\b\b\b\b\b\b\b\b\b\b\b\b\b\b\b\b\b\b\b\b\b\b\b\b\b\b\b\b\b\b\n",
            "Epoch 15/200\n",
            "794/794 [==============================] - 23s 29ms/step - loss: 0.0210 - Recon_loss: 0.0190 - Mre_loss: 6.6647e-04 - val_loss: 0.0206 - val_Recon_loss: 0.0192 - val_Mre_loss: 4.6607e-04\b\b\b\b\b\b\b\b\b\b\b\b\b\b\b\b\b\b\b\b\b\b\b\b\b\b\b\b\b\b\b\b\b\b\n",
            "Epoch 16/200\n",
            "794/794 [==============================] - 25s 32ms/step - loss: 0.0212 - Recon_loss: 0.0192 - Mre_loss: 6.7215e-04 - val_loss: 0.0197 - val_Recon_loss: 0.0184 - val_Mre_loss: 4.2553e-04\b\b\b\b\b\b\b\b\b\b\b\b\b\b\b\b\b\b\b\b\b\b\b\b\b\b\b\b\b\b\b\b\b\b\n",
            "Epoch 17/200\n",
            "794/794 [==============================] - 23s 29ms/step - loss: 0.0214 - Recon_loss: 0.0194 - Mre_loss: 6.6856e-04 - val_loss: 0.0195 - val_Recon_loss: 0.0182 - val_Mre_loss: 4.1733e-04\b\b\b\b\b\b\b\b\b\b\b\b\b\b\b\b\b\b\b\b\b\b\b\b\b\b\b\b\b\b\b\b\b\b\n",
            "Epoch 18/200\n",
            "794/794 [==============================] - 23s 29ms/step - loss: 0.0194 - Recon_loss: 0.0174 - Mre_loss: 6.7094e-04 - val_loss: 0.0175 - val_Recon_loss: 0.0162 - val_Mre_loss: 4.2835e-04\b\b\b\b\b\b\b\b\b\b\b\b\b\b\b\b\b\b\b\b\b\b\b\b\b\b\b\b\b\b\b\b\b\b\n",
            "Epoch 19/200\n",
            "794/794 [==============================] - 25s 31ms/step - loss: 0.0184 - Recon_loss: 0.0164 - Mre_loss: 6.7176e-04 - val_loss: 0.0172 - val_Recon_loss: 0.0159 - val_Mre_loss: 4.2957e-04\b\b\b\b\b\b\b\b\b\b\b\b\b\b\b\b\b\b\b\b\b\b\b\b\b\b\b\b\b\b\b\b\b\b\n",
            "Epoch 20/200\n",
            "794/794 [==============================] - 23s 29ms/step - loss: 0.0188 - Recon_loss: 0.0167 - Mre_loss: 6.7346e-04 - val_loss: 0.0199 - val_Recon_loss: 0.0187 - val_Mre_loss: 4.2879e-04\b\b\b\b\b\b\b\b\b\b\b\b\b\b\b\b\b\b\b\b\b\b\b\b\b\b\b\b\b\b\b\b\b\b\n",
            "Epoch 21/200\n",
            "794/794 [==============================] - 24s 30ms/step - loss: 0.0193 - Recon_loss: 0.0173 - Mre_loss: 6.6908e-04 - val_loss: 0.0187 - val_Recon_loss: 0.0174 - val_Mre_loss: 4.3087e-04\b\b\b\b\b\b\b\b\b\b\b\b\b\b\b\b\b\b\b\b\b\b\b\b\b\b\b\b\b\b\b\b\b\b\n",
            "Epoch 22/200\n",
            "794/794 [==============================] - 23s 30ms/step - loss: 0.0178 - Recon_loss: 0.0158 - Mre_loss: 6.7184e-04 - val_loss: 0.0183 - val_Recon_loss: 0.0169 - val_Mre_loss: 4.3889e-04\b\b\b\b\b\b\b\b\b\b\b\b\b\b\b\b\b\b\b\b\b\b\b\b\b\b\b\b\b\b\b\b\b\b\n",
            "Epoch 23/200\n",
            "794/794 [==============================] - 24s 30ms/step - loss: 0.0173 - Recon_loss: 0.0153 - Mre_loss: 6.6797e-04 - val_loss: 0.0141 - val_Recon_loss: 0.0128 - val_Mre_loss: 4.4020e-04\b\b\b\b\b\b\b\b\b\b\b\b\b\b\b\b\b\b\b\b\b\b\b\b\b\b\b\b\b\b\b\b\b\b\n",
            "Epoch 24/200\n",
            "794/794 [==============================] - 23s 29ms/step - loss: 0.0160 - Recon_loss: 0.0140 - Mre_loss: 6.7173e-04 - val_loss: 0.0146 - val_Recon_loss: 0.0133 - val_Mre_loss: 4.2925e-04\b\b\b\b\b\b\b\b\b\b\b\b\b\b\b\b\b\b\b\b\b\b\b\b\b\b\b\b\b\b\b\b\b\b\n",
            "Epoch 25/200\n",
            "794/794 [==============================] - 24s 30ms/step - loss: 0.0158 - Recon_loss: 0.0138 - Mre_loss: 6.6882e-04 - val_loss: 0.0154 - val_Recon_loss: 0.0141 - val_Mre_loss: 4.4149e-04\b\b\b\b\b\b\b\b\b\b\b\b\b\b\b\b\b\b\b\b\b\b\b\b\b\b\b\b\b\b\b\b\b\b\n",
            "Epoch 26/200\n",
            "794/794 [==============================] - 25s 31ms/step - loss: 0.0161 - Recon_loss: 0.0141 - Mre_loss: 6.7072e-04 - val_loss: 0.0126 - val_Recon_loss: 0.0113 - val_Mre_loss: 4.3148e-04\b\b\b\b\b\b\b\b\b\b\b\b\b\b\b\b\b\b\b\b\b\b\b\b\b\b\b\b\b\b\b\b\b\b\n",
            "Epoch 27/200\n",
            "794/794 [==============================] - 317s 400ms/step - loss: 0.0151 - Recon_loss: 0.0131 - Mre_loss: 6.7099e-04 - val_loss: 0.0127 - val_Recon_loss: 0.0113 - val_Mre_loss: 4.3673e-04\b\b\b\b\b\b\b\b\b\b\b\b\b\b\b\b\b\b\b\b\b\b\b\b\b\b\b\b\b\b\b\b\b\b\n",
            "Epoch 28/200\n",
            "794/794 [==============================] - 415s 523ms/step - loss: 0.0139 - Recon_loss: 0.0119 - Mre_loss: 6.7091e-04 - val_loss: 0.0122 - val_Recon_loss: 0.0109 - val_Mre_loss: 4.2471e-04\b\b\b\b\b\b\b\b\b\b\b\b\b\b\b\b\b\b\b\b\b\b\b\b\b\b\b\b\b\b\b\b\b\b\b\b\n",
            "Epoch 29/200\n",
            "794/794 [==============================] - 61s 77ms/step - loss: 0.0145 - Recon_loss: 0.0125 - Mre_loss: 6.7049e-04 - val_loss: 0.0130 - val_Recon_loss: 0.0117 - val_Mre_loss: 4.2419e-04\b\b\b\b\b\b\b\b\b\b\b\b\b\b\b\b\b\b\b\b\b\b\b\b\b\b\b\b\b\b\b\b\b\b\n",
            "Epoch 30/200\n",
            "576/794 [====================>.........] - ETA: 10:17 - loss: 0.0133 - Recon_loss: 0.0115 - Mre_loss: 6.0073e-04\b\b\b\b\b\b\b\b\b\b\b\b\b\b\b\b\b\b\b\b\b\b\b\b\b\b\b\b\b\b\b\b\b\b\b\b\b\b\b\b\b\b\b\b\b\b\b\b\b\b\b\b\b\b\b\b\b\b\b\b\b\b\b\b\b\b\b\b\b\b\b\b\b\b\b\b\b\b\b\b\b\b\b\b\b\b\b\b\b\b\b\b\b\b\b\b\b\b\b\b\b\b\b\b\b\b\b\b\b\b\b\b\r592/794 [=====================>........] - ETA: 9:17 - loss: 0.0134 - Recon_loss: 0.0115 - Mre_loss: 6.1974e-04 \b\b\b\b\b\b\b\b\b\b\b\b\b\b\b\b\b\b\b\b\b\b\b\b\b\b\b\b\b\b\b\b\b\b\b\b\b\b\b\b\b\b\b\b\b\b\b\b\b\b\b\b\b\b\b\b\b\b\b\b\b\b\b\b\b\b\b\b\b\b\b\b\b\b\b\b\b\b\b\b\b\b\b\b\b\b\b\b\b\b\b\b\b\b\b\b\b\b\b\b\b\b\b\b\b\b\b\b\b\b\b\r752/794 [===========================>..] - ETA: 1:31 - loss: 0.0139 - Recon_loss: 0.0119 - Mre_loss: 6.6492e-04\b\b\b\b\b\b\b\b\b\b\b\b\b\b\b\b\b\b\b\b\b\b\b\b\b\b\b\b\b\b\b\b\b\b\b\b\b\b\b\b\b\b\b\b\b\b\b\b\b\b\b\b\b\b\b\b\b\b\b\b\b\b\b\b\b\b\b\b\b\b\b\b\b\b\b\b\b\b\b\b\b\b\b\b\b\b\b\b\b\b\b\b\b\b\b\b\b\b\b\b\b\b\b\b\b\b\b\b\b\b\b\r768/794 [============================>.] - ETA: 55s - loss: 0.0140 - Recon_loss: 0.0120 - Mre_loss: 6.6983e-04 \b\b\b\b\b\b\b\b\b\b\b\b\b\b\b\b\b\b\b\b\b\b\b\b\b\b\b\b\b\b\b\b\b\b\b\b\b\b\b\b\b\b\b\b\b\b\b\b\b\b\b\b\b\b\b\b\b\b\b\b\b\b\b\b\b\b\b\b\b\b\b\b\b\b\b\b\b\b\b\b\b\b\b\b\b\b\b\b\b\b\b\b\b\b\b\b\b\b\b\b\b\b\b\b\b\b\b\b\b\b\r784/794 [============================>.] - ETA: 20s - loss: 0.0140 - Recon_loss: 0.0119 - Mre_loss: 6.7707e-04"
          ]
        }
      ],
      "execution_count": 14,
      "metadata": {
        "collapsed": false,
        "outputHidden": false,
        "inputHidden": false
      }
    },
    {
      "cell_type": "code",
      "source": [
        "# Plot Loss Curves\n",
        "mloss = log.history['Mre_loss']\n",
        "rloss = log.history['Recon_loss']\n",
        "nepch = log.epoch\n",
        "\n",
        "plt.figure(figsize=(8,3))\n",
        "plt.subplot(121), plt.plot(nepch,rloss),plt.title('Recon Loss')\n",
        "plt.subplot(122), plt.plot(nepch,mloss,'g'),plt.title('Mre Loss')\n",
        "plt.tight_layout()"
      ],
      "outputs": [],
      "execution_count": null,
      "metadata": {
        "collapsed": false,
        "outputHidden": false,
        "inputHidden": false
      }
    },
    {
      "cell_type": "markdown",
      "source": [
        "## Model Evaluation"
      ],
      "metadata": {
        "collapsed": false,
        "outputHidden": false,
        "inputHidden": false
      }
    },
    {
      "cell_type": "code",
      "source": [
        "# Generate Predictions\n",
        "y_pred = model.predict(x_test)"
      ],
      "outputs": [],
      "execution_count": null,
      "metadata": {
        "collapsed": false,
        "outputHidden": false,
        "inputHidden": false
      }
    },
    {
      "cell_type": "code",
      "source": [
        "# model.save('mre_dualobj_model.h5')"
      ],
      "outputs": [],
      "execution_count": null,
      "metadata": {
        "collapsed": false,
        "outputHidden": false,
        "inputHidden": false
      }
    },
    {
      "cell_type": "code",
      "source": [
        "# Visualize Examples\n",
        "N   = 5\n",
        "row = 2\n",
        "col = N\n",
        "\n",
        "sidx = random.sample(range(len(y_pred)),N)\n",
        "\n",
        "fig,axs = plt.subplots(row,col,sharex='col',sharey='row',figsize=(14,6))\n",
        "for i,n in enumerate(sidx):\n",
        "    axs[0,i%col].imshow(y_test[n])\n",
        "    axs[1,i%col].imshow(y_pred[n])\n",
        "    \n",
        "    mse = mean_squared_error(y_pred[n],y_test[n])\n",
        "    header = '{0}, mse={1:.04f}'.format(n,mse)\n",
        "    axs[0,i%col].set_title(header)"
      ],
      "outputs": [],
      "execution_count": null,
      "metadata": {
        "collapsed": false,
        "outputHidden": false,
        "inputHidden": false
      }
    },
    {
      "cell_type": "code",
      "source": [],
      "outputs": [],
      "execution_count": null,
      "metadata": {
        "collapsed": false,
        "outputHidden": false,
        "inputHidden": false
      }
    }
  ],
  "metadata": {
    "kernel_info": {
      "name": "python2"
    },
    "language_info": {
      "mimetype": "text/x-python",
      "nbconvert_exporter": "python",
      "name": "python",
      "pygments_lexer": "ipython2",
      "version": "2.7.14",
      "file_extension": ".py",
      "codemirror_mode": {
        "version": 2,
        "name": "ipython"
      }
    },
    "kernelspec": {
      "name": "python2",
      "language": "python",
      "display_name": "Python 2"
    },
    "nteract": {
      "version": "0.12.2"
    }
  },
  "nbformat": 4,
  "nbformat_minor": 4
}